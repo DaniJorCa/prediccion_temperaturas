{
  "cells": [
    {
      "cell_type": "markdown",
      "metadata": {
        "id": "qKi2og0RExCo"
      },
      "source": [
        "# Red Neuronal para predecir la temperatura de mañana\n",
        "\n",
        "En este proyecto buscamos desarrollar un modelo capaz de predecir la temperatura máxima del día siguiente a partir de los datos históricos recientes.\n",
        "\n",
        "La idea es la siguiente: partimos de la información disponible del día de ayer (ya conocida por completo hoy) y la utilizamos para estimar cuál será la temperatura máxima de mañana.\n",
        "\n",
        "Para ello exploraremos diferentes enfoques:\n",
        "\n",
        "Redes Neuronales Densas (Fully Connected)\n",
        "\n",
        "Redes LSTM (Long Short-Term Memory), diseñadas para trabajar con series temporales.\n",
        "\n",
        "Modelos de Machine Learning tradicionales, como los árboles de decisión.\n",
        "\n",
        "De esta manera podremos comparar los resultados entre distintos paradigmas de modelado y evaluar cuál ofrece la mayor precisión en la predicción de la temperatura."
      ]
    },
    {
      "cell_type": "markdown",
      "metadata": {
        "id": "a6ua5RqhE_4L"
      },
      "source": [
        "## Cargamos el dataset con las hojas \"pluvio\" y \"termo\""
      ]
    },
    {
      "cell_type": "code",
      "execution_count": 6,
      "metadata": {
        "id": "H07VrBKg-Y_i"
      },
      "outputs": [],
      "source": [
        "import pandas as pd"
      ]
    },
    {
      "cell_type": "code",
      "execution_count": 7,
      "metadata": {
        "id": "Yt_XQcbw-eaf"
      },
      "outputs": [],
      "source": [
        "df_termo = pd.read_excel(\"./dataset/temps.xlsx\", sheet_name=\"termo\")"
      ]
    },
    {
      "cell_type": "code",
      "execution_count": 8,
      "metadata": {
        "colab": {
          "base_uri": "https://localhost:8080/",
          "height": 424
        },
        "id": "Pxl46l6q-586",
        "outputId": "26761886-421e-4413-ccd9-95ff8bf99e12"
      },
      "outputs": [
        {
          "data": {
            "text/html": [
              "<div>\n",
              "<style scoped>\n",
              "    .dataframe tbody tr th:only-of-type {\n",
              "        vertical-align: middle;\n",
              "    }\n",
              "\n",
              "    .dataframe tbody tr th {\n",
              "        vertical-align: top;\n",
              "    }\n",
              "\n",
              "    .dataframe thead th {\n",
              "        text-align: right;\n",
              "    }\n",
              "</style>\n",
              "<table border=\"1\" class=\"dataframe\">\n",
              "  <thead>\n",
              "    <tr style=\"text-align: right;\">\n",
              "      <th></th>\n",
              "      <th>INDICATIVO</th>\n",
              "      <th>AÑO</th>\n",
              "      <th>MES</th>\n",
              "      <th>DIA</th>\n",
              "      <th>NOMBRE</th>\n",
              "      <th>ALTITUD</th>\n",
              "      <th>C_X</th>\n",
              "      <th>C_Y</th>\n",
              "      <th>TMAX</th>\n",
              "      <th>TMIN</th>\n",
              "      <th>TMED</th>\n",
              "    </tr>\n",
              "  </thead>\n",
              "  <tbody>\n",
              "    <tr>\n",
              "      <th>0</th>\n",
              "      <td>8018A</td>\n",
              "      <td>1944</td>\n",
              "      <td>4</td>\n",
              "      <td>1</td>\n",
              "      <td>ELCHE</td>\n",
              "      <td>95</td>\n",
              "      <td>701719</td>\n",
              "      <td>4238104</td>\n",
              "      <td>280.0</td>\n",
              "      <td>110.0</td>\n",
              "      <td>195.0</td>\n",
              "    </tr>\n",
              "    <tr>\n",
              "      <th>1</th>\n",
              "      <td>8018A</td>\n",
              "      <td>1944</td>\n",
              "      <td>4</td>\n",
              "      <td>2</td>\n",
              "      <td>ELCHE</td>\n",
              "      <td>95</td>\n",
              "      <td>701719</td>\n",
              "      <td>4238104</td>\n",
              "      <td>230.0</td>\n",
              "      <td>130.0</td>\n",
              "      <td>180.0</td>\n",
              "    </tr>\n",
              "    <tr>\n",
              "      <th>2</th>\n",
              "      <td>8018A</td>\n",
              "      <td>1944</td>\n",
              "      <td>4</td>\n",
              "      <td>3</td>\n",
              "      <td>ELCHE</td>\n",
              "      <td>95</td>\n",
              "      <td>701719</td>\n",
              "      <td>4238104</td>\n",
              "      <td>230.0</td>\n",
              "      <td>140.0</td>\n",
              "      <td>185.0</td>\n",
              "    </tr>\n",
              "    <tr>\n",
              "      <th>3</th>\n",
              "      <td>8018A</td>\n",
              "      <td>1944</td>\n",
              "      <td>4</td>\n",
              "      <td>4</td>\n",
              "      <td>ELCHE</td>\n",
              "      <td>95</td>\n",
              "      <td>701719</td>\n",
              "      <td>4238104</td>\n",
              "      <td>280.0</td>\n",
              "      <td>150.0</td>\n",
              "      <td>215.0</td>\n",
              "    </tr>\n",
              "    <tr>\n",
              "      <th>4</th>\n",
              "      <td>8018A</td>\n",
              "      <td>1944</td>\n",
              "      <td>4</td>\n",
              "      <td>5</td>\n",
              "      <td>ELCHE</td>\n",
              "      <td>95</td>\n",
              "      <td>701719</td>\n",
              "      <td>4238104</td>\n",
              "      <td>250.0</td>\n",
              "      <td>150.0</td>\n",
              "      <td>200.0</td>\n",
              "    </tr>\n",
              "    <tr>\n",
              "      <th>...</th>\n",
              "      <td>...</td>\n",
              "      <td>...</td>\n",
              "      <td>...</td>\n",
              "      <td>...</td>\n",
              "      <td>...</td>\n",
              "      <td>...</td>\n",
              "      <td>...</td>\n",
              "      <td>...</td>\n",
              "      <td>...</td>\n",
              "      <td>...</td>\n",
              "      <td>...</td>\n",
              "    </tr>\n",
              "    <tr>\n",
              "      <th>33372</th>\n",
              "      <td>8018X</td>\n",
              "      <td>2025</td>\n",
              "      <td>1</td>\n",
              "      <td>7</td>\n",
              "      <td>ELCHE/ALTABIX</td>\n",
              "      <td>110</td>\n",
              "      <td>702856</td>\n",
              "      <td>4240261</td>\n",
              "      <td>201.0</td>\n",
              "      <td>85.0</td>\n",
              "      <td>143.0</td>\n",
              "    </tr>\n",
              "    <tr>\n",
              "      <th>33373</th>\n",
              "      <td>8018X</td>\n",
              "      <td>2025</td>\n",
              "      <td>1</td>\n",
              "      <td>8</td>\n",
              "      <td>ELCHE/ALTABIX</td>\n",
              "      <td>110</td>\n",
              "      <td>702856</td>\n",
              "      <td>4240261</td>\n",
              "      <td>209.0</td>\n",
              "      <td>83.0</td>\n",
              "      <td>146.0</td>\n",
              "    </tr>\n",
              "    <tr>\n",
              "      <th>33374</th>\n",
              "      <td>8018X</td>\n",
              "      <td>2025</td>\n",
              "      <td>1</td>\n",
              "      <td>9</td>\n",
              "      <td>ELCHE/ALTABIX</td>\n",
              "      <td>110</td>\n",
              "      <td>702856</td>\n",
              "      <td>4240261</td>\n",
              "      <td>227.0</td>\n",
              "      <td>92.0</td>\n",
              "      <td>160.0</td>\n",
              "    </tr>\n",
              "    <tr>\n",
              "      <th>33375</th>\n",
              "      <td>8018X</td>\n",
              "      <td>2025</td>\n",
              "      <td>1</td>\n",
              "      <td>10</td>\n",
              "      <td>ELCHE/ALTABIX</td>\n",
              "      <td>110</td>\n",
              "      <td>702856</td>\n",
              "      <td>4240261</td>\n",
              "      <td>241.0</td>\n",
              "      <td>133.0</td>\n",
              "      <td>187.0</td>\n",
              "    </tr>\n",
              "    <tr>\n",
              "      <th>33376</th>\n",
              "      <td>8018X</td>\n",
              "      <td>2025</td>\n",
              "      <td>1</td>\n",
              "      <td>11</td>\n",
              "      <td>ELCHE/ALTABIX</td>\n",
              "      <td>110</td>\n",
              "      <td>702856</td>\n",
              "      <td>4240261</td>\n",
              "      <td>243.0</td>\n",
              "      <td>137.0</td>\n",
              "      <td>190.0</td>\n",
              "    </tr>\n",
              "  </tbody>\n",
              "</table>\n",
              "<p>33377 rows × 11 columns</p>\n",
              "</div>"
            ],
            "text/plain": [
              "      INDICATIVO   AÑO  MES  DIA         NOMBRE  ALTITUD     C_X      C_Y  \\\n",
              "0          8018A  1944    4    1          ELCHE       95  701719  4238104   \n",
              "1          8018A  1944    4    2          ELCHE       95  701719  4238104   \n",
              "2          8018A  1944    4    3          ELCHE       95  701719  4238104   \n",
              "3          8018A  1944    4    4          ELCHE       95  701719  4238104   \n",
              "4          8018A  1944    4    5          ELCHE       95  701719  4238104   \n",
              "...          ...   ...  ...  ...            ...      ...     ...      ...   \n",
              "33372      8018X  2025    1    7  ELCHE/ALTABIX      110  702856  4240261   \n",
              "33373      8018X  2025    1    8  ELCHE/ALTABIX      110  702856  4240261   \n",
              "33374      8018X  2025    1    9  ELCHE/ALTABIX      110  702856  4240261   \n",
              "33375      8018X  2025    1   10  ELCHE/ALTABIX      110  702856  4240261   \n",
              "33376      8018X  2025    1   11  ELCHE/ALTABIX      110  702856  4240261   \n",
              "\n",
              "        TMAX   TMIN   TMED  \n",
              "0      280.0  110.0  195.0  \n",
              "1      230.0  130.0  180.0  \n",
              "2      230.0  140.0  185.0  \n",
              "3      280.0  150.0  215.0  \n",
              "4      250.0  150.0  200.0  \n",
              "...      ...    ...    ...  \n",
              "33372  201.0   85.0  143.0  \n",
              "33373  209.0   83.0  146.0  \n",
              "33374  227.0   92.0  160.0  \n",
              "33375  241.0  133.0  187.0  \n",
              "33376  243.0  137.0  190.0  \n",
              "\n",
              "[33377 rows x 11 columns]"
            ]
          },
          "execution_count": 8,
          "metadata": {},
          "output_type": "execute_result"
        }
      ],
      "source": [
        "df_termo"
      ]
    },
    {
      "cell_type": "code",
      "execution_count": 9,
      "metadata": {
        "id": "dHZ33Kaj_K-f"
      },
      "outputs": [],
      "source": [
        "df_pluvio = pd.read_excel(\"./dataset/temps.xlsx\", sheet_name=\"pluvio\")"
      ]
    },
    {
      "cell_type": "code",
      "execution_count": 10,
      "metadata": {
        "colab": {
          "base_uri": "https://localhost:8080/",
          "height": 791
        },
        "id": "QrDRMdSNCLh3",
        "outputId": "0b191639-215b-4cca-c88a-217781f25695"
      },
      "outputs": [
        {
          "data": {
            "text/html": [
              "<div>\n",
              "<style scoped>\n",
              "    .dataframe tbody tr th:only-of-type {\n",
              "        vertical-align: middle;\n",
              "    }\n",
              "\n",
              "    .dataframe tbody tr th {\n",
              "        vertical-align: top;\n",
              "    }\n",
              "\n",
              "    .dataframe thead th {\n",
              "        text-align: right;\n",
              "    }\n",
              "</style>\n",
              "<table border=\"1\" class=\"dataframe\">\n",
              "  <thead>\n",
              "    <tr style=\"text-align: right;\">\n",
              "      <th></th>\n",
              "      <th>INDICATIVO</th>\n",
              "      <th>AÑO</th>\n",
              "      <th>MES</th>\n",
              "      <th>DIA</th>\n",
              "      <th>NOMBRE</th>\n",
              "      <th>ALTITUD</th>\n",
              "      <th>C_X</th>\n",
              "      <th>C_Y</th>\n",
              "      <th>P77</th>\n",
              "      <th>Lluvia</th>\n",
              "      <th>...</th>\n",
              "      <th>Niebla</th>\n",
              "      <th>Rocio</th>\n",
              "      <th>Escarcha</th>\n",
              "      <th>NieveSuelo</th>\n",
              "      <th>Neblina</th>\n",
              "      <th>Calima</th>\n",
              "      <th>VientoFuerte</th>\n",
              "      <th>Polvareda</th>\n",
              "      <th>MetPrecNoEspec</th>\n",
              "      <th>Otros</th>\n",
              "    </tr>\n",
              "  </thead>\n",
              "  <tbody>\n",
              "    <tr>\n",
              "      <th>0</th>\n",
              "      <td>7263</td>\n",
              "      <td>1970</td>\n",
              "      <td>1</td>\n",
              "      <td>1</td>\n",
              "      <td>LA MARINA DE ELCHE</td>\n",
              "      <td>15</td>\n",
              "      <td>706665</td>\n",
              "      <td>4224378</td>\n",
              "      <td>0.0</td>\n",
              "      <td>NaN</td>\n",
              "      <td>...</td>\n",
              "      <td>NaN</td>\n",
              "      <td>NaN</td>\n",
              "      <td>NaN</td>\n",
              "      <td>NaN</td>\n",
              "      <td>NaN</td>\n",
              "      <td>NaN</td>\n",
              "      <td>NaN</td>\n",
              "      <td>NaN</td>\n",
              "      <td>NaN</td>\n",
              "      <td>NaN</td>\n",
              "    </tr>\n",
              "    <tr>\n",
              "      <th>1</th>\n",
              "      <td>7263</td>\n",
              "      <td>1970</td>\n",
              "      <td>1</td>\n",
              "      <td>2</td>\n",
              "      <td>LA MARINA DE ELCHE</td>\n",
              "      <td>15</td>\n",
              "      <td>706665</td>\n",
              "      <td>4224378</td>\n",
              "      <td>32.0</td>\n",
              "      <td>X</td>\n",
              "      <td>...</td>\n",
              "      <td>NaN</td>\n",
              "      <td>NaN</td>\n",
              "      <td>NaN</td>\n",
              "      <td>NaN</td>\n",
              "      <td>NaN</td>\n",
              "      <td>NaN</td>\n",
              "      <td>NaN</td>\n",
              "      <td>NaN</td>\n",
              "      <td>NaN</td>\n",
              "      <td>NaN</td>\n",
              "    </tr>\n",
              "    <tr>\n",
              "      <th>2</th>\n",
              "      <td>7263</td>\n",
              "      <td>1970</td>\n",
              "      <td>1</td>\n",
              "      <td>3</td>\n",
              "      <td>LA MARINA DE ELCHE</td>\n",
              "      <td>15</td>\n",
              "      <td>706665</td>\n",
              "      <td>4224378</td>\n",
              "      <td>0.0</td>\n",
              "      <td>NaN</td>\n",
              "      <td>...</td>\n",
              "      <td>NaN</td>\n",
              "      <td>NaN</td>\n",
              "      <td>NaN</td>\n",
              "      <td>NaN</td>\n",
              "      <td>NaN</td>\n",
              "      <td>NaN</td>\n",
              "      <td>NaN</td>\n",
              "      <td>NaN</td>\n",
              "      <td>NaN</td>\n",
              "      <td>NaN</td>\n",
              "    </tr>\n",
              "    <tr>\n",
              "      <th>3</th>\n",
              "      <td>7263</td>\n",
              "      <td>1970</td>\n",
              "      <td>1</td>\n",
              "      <td>4</td>\n",
              "      <td>LA MARINA DE ELCHE</td>\n",
              "      <td>15</td>\n",
              "      <td>706665</td>\n",
              "      <td>4224378</td>\n",
              "      <td>0.0</td>\n",
              "      <td>NaN</td>\n",
              "      <td>...</td>\n",
              "      <td>NaN</td>\n",
              "      <td>X</td>\n",
              "      <td>NaN</td>\n",
              "      <td>NaN</td>\n",
              "      <td>NaN</td>\n",
              "      <td>NaN</td>\n",
              "      <td>NaN</td>\n",
              "      <td>NaN</td>\n",
              "      <td>NaN</td>\n",
              "      <td>NaN</td>\n",
              "    </tr>\n",
              "    <tr>\n",
              "      <th>4</th>\n",
              "      <td>7263</td>\n",
              "      <td>1970</td>\n",
              "      <td>1</td>\n",
              "      <td>5</td>\n",
              "      <td>LA MARINA DE ELCHE</td>\n",
              "      <td>15</td>\n",
              "      <td>706665</td>\n",
              "      <td>4224378</td>\n",
              "      <td>9.0</td>\n",
              "      <td>X</td>\n",
              "      <td>...</td>\n",
              "      <td>NaN</td>\n",
              "      <td>NaN</td>\n",
              "      <td>NaN</td>\n",
              "      <td>NaN</td>\n",
              "      <td>NaN</td>\n",
              "      <td>NaN</td>\n",
              "      <td>NaN</td>\n",
              "      <td>NaN</td>\n",
              "      <td>NaN</td>\n",
              "      <td>NaN</td>\n",
              "    </tr>\n",
              "    <tr>\n",
              "      <th>...</th>\n",
              "      <td>...</td>\n",
              "      <td>...</td>\n",
              "      <td>...</td>\n",
              "      <td>...</td>\n",
              "      <td>...</td>\n",
              "      <td>...</td>\n",
              "      <td>...</td>\n",
              "      <td>...</td>\n",
              "      <td>...</td>\n",
              "      <td>...</td>\n",
              "      <td>...</td>\n",
              "      <td>...</td>\n",
              "      <td>...</td>\n",
              "      <td>...</td>\n",
              "      <td>...</td>\n",
              "      <td>...</td>\n",
              "      <td>...</td>\n",
              "      <td>...</td>\n",
              "      <td>...</td>\n",
              "      <td>...</td>\n",
              "      <td>...</td>\n",
              "    </tr>\n",
              "    <tr>\n",
              "      <th>53348</th>\n",
              "      <td>8018X</td>\n",
              "      <td>2025</td>\n",
              "      <td>1</td>\n",
              "      <td>7</td>\n",
              "      <td>ELCHE/ALTABIX</td>\n",
              "      <td>110</td>\n",
              "      <td>702856</td>\n",
              "      <td>4240261</td>\n",
              "      <td>0.0</td>\n",
              "      <td>NaN</td>\n",
              "      <td>...</td>\n",
              "      <td>NaN</td>\n",
              "      <td>NaN</td>\n",
              "      <td>NaN</td>\n",
              "      <td>NaN</td>\n",
              "      <td>NaN</td>\n",
              "      <td>NaN</td>\n",
              "      <td>NaN</td>\n",
              "      <td>NaN</td>\n",
              "      <td>NaN</td>\n",
              "      <td>NaN</td>\n",
              "    </tr>\n",
              "    <tr>\n",
              "      <th>53349</th>\n",
              "      <td>8018X</td>\n",
              "      <td>2025</td>\n",
              "      <td>1</td>\n",
              "      <td>8</td>\n",
              "      <td>ELCHE/ALTABIX</td>\n",
              "      <td>110</td>\n",
              "      <td>702856</td>\n",
              "      <td>4240261</td>\n",
              "      <td>0.0</td>\n",
              "      <td>NaN</td>\n",
              "      <td>...</td>\n",
              "      <td>NaN</td>\n",
              "      <td>NaN</td>\n",
              "      <td>NaN</td>\n",
              "      <td>NaN</td>\n",
              "      <td>NaN</td>\n",
              "      <td>NaN</td>\n",
              "      <td>NaN</td>\n",
              "      <td>NaN</td>\n",
              "      <td>NaN</td>\n",
              "      <td>NaN</td>\n",
              "    </tr>\n",
              "    <tr>\n",
              "      <th>53350</th>\n",
              "      <td>8018X</td>\n",
              "      <td>2025</td>\n",
              "      <td>1</td>\n",
              "      <td>9</td>\n",
              "      <td>ELCHE/ALTABIX</td>\n",
              "      <td>110</td>\n",
              "      <td>702856</td>\n",
              "      <td>4240261</td>\n",
              "      <td>0.0</td>\n",
              "      <td>NaN</td>\n",
              "      <td>...</td>\n",
              "      <td>NaN</td>\n",
              "      <td>NaN</td>\n",
              "      <td>NaN</td>\n",
              "      <td>NaN</td>\n",
              "      <td>NaN</td>\n",
              "      <td>NaN</td>\n",
              "      <td>NaN</td>\n",
              "      <td>NaN</td>\n",
              "      <td>NaN</td>\n",
              "      <td>NaN</td>\n",
              "    </tr>\n",
              "    <tr>\n",
              "      <th>53351</th>\n",
              "      <td>8018X</td>\n",
              "      <td>2025</td>\n",
              "      <td>1</td>\n",
              "      <td>10</td>\n",
              "      <td>ELCHE/ALTABIX</td>\n",
              "      <td>110</td>\n",
              "      <td>702856</td>\n",
              "      <td>4240261</td>\n",
              "      <td>0.0</td>\n",
              "      <td>NaN</td>\n",
              "      <td>...</td>\n",
              "      <td>NaN</td>\n",
              "      <td>NaN</td>\n",
              "      <td>NaN</td>\n",
              "      <td>NaN</td>\n",
              "      <td>NaN</td>\n",
              "      <td>NaN</td>\n",
              "      <td>NaN</td>\n",
              "      <td>NaN</td>\n",
              "      <td>NaN</td>\n",
              "      <td>NaN</td>\n",
              "    </tr>\n",
              "    <tr>\n",
              "      <th>53352</th>\n",
              "      <td>8018X</td>\n",
              "      <td>2025</td>\n",
              "      <td>1</td>\n",
              "      <td>11</td>\n",
              "      <td>ELCHE/ALTABIX</td>\n",
              "      <td>110</td>\n",
              "      <td>702856</td>\n",
              "      <td>4240261</td>\n",
              "      <td>0.0</td>\n",
              "      <td>NaN</td>\n",
              "      <td>...</td>\n",
              "      <td>NaN</td>\n",
              "      <td>NaN</td>\n",
              "      <td>NaN</td>\n",
              "      <td>NaN</td>\n",
              "      <td>NaN</td>\n",
              "      <td>NaN</td>\n",
              "      <td>NaN</td>\n",
              "      <td>NaN</td>\n",
              "      <td>NaN</td>\n",
              "      <td>NaN</td>\n",
              "    </tr>\n",
              "  </tbody>\n",
              "</table>\n",
              "<p>53353 rows × 23 columns</p>\n",
              "</div>"
            ],
            "text/plain": [
              "      INDICATIVO   AÑO  MES  DIA              NOMBRE  ALTITUD     C_X  \\\n",
              "0           7263  1970    1    1  LA MARINA DE ELCHE       15  706665   \n",
              "1           7263  1970    1    2  LA MARINA DE ELCHE       15  706665   \n",
              "2           7263  1970    1    3  LA MARINA DE ELCHE       15  706665   \n",
              "3           7263  1970    1    4  LA MARINA DE ELCHE       15  706665   \n",
              "4           7263  1970    1    5  LA MARINA DE ELCHE       15  706665   \n",
              "...          ...   ...  ...  ...                 ...      ...     ...   \n",
              "53348      8018X  2025    1    7       ELCHE/ALTABIX      110  702856   \n",
              "53349      8018X  2025    1    8       ELCHE/ALTABIX      110  702856   \n",
              "53350      8018X  2025    1    9       ELCHE/ALTABIX      110  702856   \n",
              "53351      8018X  2025    1   10       ELCHE/ALTABIX      110  702856   \n",
              "53352      8018X  2025    1   11       ELCHE/ALTABIX      110  702856   \n",
              "\n",
              "           C_Y   P77 Lluvia  ... Niebla Rocio Escarcha NieveSuelo Neblina  \\\n",
              "0      4224378   0.0    NaN  ...    NaN   NaN      NaN        NaN     NaN   \n",
              "1      4224378  32.0      X  ...    NaN   NaN      NaN        NaN     NaN   \n",
              "2      4224378   0.0    NaN  ...    NaN   NaN      NaN        NaN     NaN   \n",
              "3      4224378   0.0    NaN  ...    NaN     X      NaN        NaN     NaN   \n",
              "4      4224378   9.0      X  ...    NaN   NaN      NaN        NaN     NaN   \n",
              "...        ...   ...    ...  ...    ...   ...      ...        ...     ...   \n",
              "53348  4240261   0.0    NaN  ...    NaN   NaN      NaN        NaN     NaN   \n",
              "53349  4240261   0.0    NaN  ...    NaN   NaN      NaN        NaN     NaN   \n",
              "53350  4240261   0.0    NaN  ...    NaN   NaN      NaN        NaN     NaN   \n",
              "53351  4240261   0.0    NaN  ...    NaN   NaN      NaN        NaN     NaN   \n",
              "53352  4240261   0.0    NaN  ...    NaN   NaN      NaN        NaN     NaN   \n",
              "\n",
              "      Calima VientoFuerte  Polvareda  MetPrecNoEspec  Otros  \n",
              "0        NaN          NaN        NaN             NaN    NaN  \n",
              "1        NaN          NaN        NaN             NaN    NaN  \n",
              "2        NaN          NaN        NaN             NaN    NaN  \n",
              "3        NaN          NaN        NaN             NaN    NaN  \n",
              "4        NaN          NaN        NaN             NaN    NaN  \n",
              "...      ...          ...        ...             ...    ...  \n",
              "53348    NaN          NaN        NaN             NaN    NaN  \n",
              "53349    NaN          NaN        NaN             NaN    NaN  \n",
              "53350    NaN          NaN        NaN             NaN    NaN  \n",
              "53351    NaN          NaN        NaN             NaN    NaN  \n",
              "53352    NaN          NaN        NaN             NaN    NaN  \n",
              "\n",
              "[53353 rows x 23 columns]"
            ]
          },
          "execution_count": 10,
          "metadata": {},
          "output_type": "execute_result"
        }
      ],
      "source": [
        "df_pluvio"
      ]
    },
    {
      "cell_type": "markdown",
      "metadata": {
        "id": "FJs93q1wNxYT"
      },
      "source": [
        "## Info de los datasets"
      ]
    },
    {
      "cell_type": "code",
      "execution_count": 11,
      "metadata": {
        "colab": {
          "base_uri": "https://localhost:8080/"
        },
        "id": "oUSai4PNCfEv",
        "outputId": "d4581bb6-1fd2-48da-82f7-1f864c9c5eb9"
      },
      "outputs": [
        {
          "data": {
            "text/plain": [
              "Index(['INDICATIVO', 'AÑO', 'MES', 'DIA', 'NOMBRE', 'ALTITUD', 'C_X', 'C_Y',\n",
              "       'TMAX', 'TMIN', 'TMED'],\n",
              "      dtype='object')"
            ]
          },
          "execution_count": 11,
          "metadata": {},
          "output_type": "execute_result"
        }
      ],
      "source": [
        "df_termo.columns"
      ]
    },
    {
      "cell_type": "code",
      "execution_count": 12,
      "metadata": {
        "colab": {
          "base_uri": "https://localhost:8080/"
        },
        "id": "UfUbtFDvCjzq",
        "outputId": "bd5fd1b6-a5b7-43c4-f569-05cd48af00e5"
      },
      "outputs": [
        {
          "name": "stdout",
          "output_type": "stream",
          "text": [
            "<class 'pandas.core.frame.DataFrame'>\n",
            "RangeIndex: 33377 entries, 0 to 33376\n",
            "Data columns (total 11 columns):\n",
            " #   Column      Non-Null Count  Dtype  \n",
            "---  ------      --------------  -----  \n",
            " 0   INDICATIVO  33377 non-null  object \n",
            " 1   AÑO         33377 non-null  int64  \n",
            " 2   MES         33377 non-null  int64  \n",
            " 3   DIA         33377 non-null  int64  \n",
            " 4   NOMBRE      33377 non-null  object \n",
            " 5   ALTITUD     33377 non-null  int64  \n",
            " 6   C_X         33377 non-null  int64  \n",
            " 7   C_Y         33377 non-null  int64  \n",
            " 8   TMAX        33323 non-null  float64\n",
            " 9   TMIN        33302 non-null  float64\n",
            " 10  TMED        33248 non-null  float64\n",
            "dtypes: float64(3), int64(6), object(2)\n",
            "memory usage: 2.8+ MB\n"
          ]
        }
      ],
      "source": [
        "df_termo.info()"
      ]
    },
    {
      "cell_type": "markdown",
      "metadata": {
        "id": "tPT37cnbN4t5"
      },
      "source": [
        "## Extraemos los datos del medidor \"8018A\""
      ]
    },
    {
      "cell_type": "code",
      "execution_count": 13,
      "metadata": {
        "id": "URrspIg0CMx_"
      },
      "outputs": [],
      "source": [
        "df_termo = df_termo[df_termo[\"INDICATIVO\"] == \"8018A\"]"
      ]
    },
    {
      "cell_type": "code",
      "execution_count": 14,
      "metadata": {
        "colab": {
          "base_uri": "https://localhost:8080/",
          "height": 424
        },
        "id": "cjthQJcyCxHR",
        "outputId": "c35d8664-6e39-43a9-ca33-c628cdea724d"
      },
      "outputs": [
        {
          "data": {
            "text/html": [
              "<div>\n",
              "<style scoped>\n",
              "    .dataframe tbody tr th:only-of-type {\n",
              "        vertical-align: middle;\n",
              "    }\n",
              "\n",
              "    .dataframe tbody tr th {\n",
              "        vertical-align: top;\n",
              "    }\n",
              "\n",
              "    .dataframe thead th {\n",
              "        text-align: right;\n",
              "    }\n",
              "</style>\n",
              "<table border=\"1\" class=\"dataframe\">\n",
              "  <thead>\n",
              "    <tr style=\"text-align: right;\">\n",
              "      <th></th>\n",
              "      <th>INDICATIVO</th>\n",
              "      <th>AÑO</th>\n",
              "      <th>MES</th>\n",
              "      <th>DIA</th>\n",
              "      <th>NOMBRE</th>\n",
              "      <th>ALTITUD</th>\n",
              "      <th>C_X</th>\n",
              "      <th>C_Y</th>\n",
              "      <th>TMAX</th>\n",
              "      <th>TMIN</th>\n",
              "      <th>TMED</th>\n",
              "    </tr>\n",
              "  </thead>\n",
              "  <tbody>\n",
              "    <tr>\n",
              "      <th>0</th>\n",
              "      <td>8018A</td>\n",
              "      <td>1944</td>\n",
              "      <td>4</td>\n",
              "      <td>1</td>\n",
              "      <td>ELCHE</td>\n",
              "      <td>95</td>\n",
              "      <td>701719</td>\n",
              "      <td>4238104</td>\n",
              "      <td>280.0</td>\n",
              "      <td>110.0</td>\n",
              "      <td>195.0</td>\n",
              "    </tr>\n",
              "    <tr>\n",
              "      <th>1</th>\n",
              "      <td>8018A</td>\n",
              "      <td>1944</td>\n",
              "      <td>4</td>\n",
              "      <td>2</td>\n",
              "      <td>ELCHE</td>\n",
              "      <td>95</td>\n",
              "      <td>701719</td>\n",
              "      <td>4238104</td>\n",
              "      <td>230.0</td>\n",
              "      <td>130.0</td>\n",
              "      <td>180.0</td>\n",
              "    </tr>\n",
              "    <tr>\n",
              "      <th>2</th>\n",
              "      <td>8018A</td>\n",
              "      <td>1944</td>\n",
              "      <td>4</td>\n",
              "      <td>3</td>\n",
              "      <td>ELCHE</td>\n",
              "      <td>95</td>\n",
              "      <td>701719</td>\n",
              "      <td>4238104</td>\n",
              "      <td>230.0</td>\n",
              "      <td>140.0</td>\n",
              "      <td>185.0</td>\n",
              "    </tr>\n",
              "    <tr>\n",
              "      <th>3</th>\n",
              "      <td>8018A</td>\n",
              "      <td>1944</td>\n",
              "      <td>4</td>\n",
              "      <td>4</td>\n",
              "      <td>ELCHE</td>\n",
              "      <td>95</td>\n",
              "      <td>701719</td>\n",
              "      <td>4238104</td>\n",
              "      <td>280.0</td>\n",
              "      <td>150.0</td>\n",
              "      <td>215.0</td>\n",
              "    </tr>\n",
              "    <tr>\n",
              "      <th>4</th>\n",
              "      <td>8018A</td>\n",
              "      <td>1944</td>\n",
              "      <td>4</td>\n",
              "      <td>5</td>\n",
              "      <td>ELCHE</td>\n",
              "      <td>95</td>\n",
              "      <td>701719</td>\n",
              "      <td>4238104</td>\n",
              "      <td>250.0</td>\n",
              "      <td>150.0</td>\n",
              "      <td>200.0</td>\n",
              "    </tr>\n",
              "    <tr>\n",
              "      <th>...</th>\n",
              "      <td>...</td>\n",
              "      <td>...</td>\n",
              "      <td>...</td>\n",
              "      <td>...</td>\n",
              "      <td>...</td>\n",
              "      <td>...</td>\n",
              "      <td>...</td>\n",
              "      <td>...</td>\n",
              "      <td>...</td>\n",
              "      <td>...</td>\n",
              "      <td>...</td>\n",
              "    </tr>\n",
              "    <tr>\n",
              "      <th>27317</th>\n",
              "      <td>8018A</td>\n",
              "      <td>2024</td>\n",
              "      <td>12</td>\n",
              "      <td>27</td>\n",
              "      <td>ELCHE</td>\n",
              "      <td>95</td>\n",
              "      <td>701719</td>\n",
              "      <td>4238104</td>\n",
              "      <td>145.0</td>\n",
              "      <td>78.0</td>\n",
              "      <td>112.0</td>\n",
              "    </tr>\n",
              "    <tr>\n",
              "      <th>27318</th>\n",
              "      <td>8018A</td>\n",
              "      <td>2024</td>\n",
              "      <td>12</td>\n",
              "      <td>28</td>\n",
              "      <td>ELCHE</td>\n",
              "      <td>95</td>\n",
              "      <td>701719</td>\n",
              "      <td>4238104</td>\n",
              "      <td>157.0</td>\n",
              "      <td>98.0</td>\n",
              "      <td>128.0</td>\n",
              "    </tr>\n",
              "    <tr>\n",
              "      <th>27319</th>\n",
              "      <td>8018A</td>\n",
              "      <td>2024</td>\n",
              "      <td>12</td>\n",
              "      <td>29</td>\n",
              "      <td>ELCHE</td>\n",
              "      <td>95</td>\n",
              "      <td>701719</td>\n",
              "      <td>4238104</td>\n",
              "      <td>157.0</td>\n",
              "      <td>72.0</td>\n",
              "      <td>114.0</td>\n",
              "    </tr>\n",
              "    <tr>\n",
              "      <th>27320</th>\n",
              "      <td>8018A</td>\n",
              "      <td>2024</td>\n",
              "      <td>12</td>\n",
              "      <td>30</td>\n",
              "      <td>ELCHE</td>\n",
              "      <td>95</td>\n",
              "      <td>701719</td>\n",
              "      <td>4238104</td>\n",
              "      <td>147.0</td>\n",
              "      <td>71.0</td>\n",
              "      <td>109.0</td>\n",
              "    </tr>\n",
              "    <tr>\n",
              "      <th>27321</th>\n",
              "      <td>8018A</td>\n",
              "      <td>2024</td>\n",
              "      <td>12</td>\n",
              "      <td>31</td>\n",
              "      <td>ELCHE</td>\n",
              "      <td>95</td>\n",
              "      <td>701719</td>\n",
              "      <td>4238104</td>\n",
              "      <td>147.0</td>\n",
              "      <td>95.0</td>\n",
              "      <td>121.0</td>\n",
              "    </tr>\n",
              "  </tbody>\n",
              "</table>\n",
              "<p>27322 rows × 11 columns</p>\n",
              "</div>"
            ],
            "text/plain": [
              "      INDICATIVO   AÑO  MES  DIA NOMBRE  ALTITUD     C_X      C_Y   TMAX  \\\n",
              "0          8018A  1944    4    1  ELCHE       95  701719  4238104  280.0   \n",
              "1          8018A  1944    4    2  ELCHE       95  701719  4238104  230.0   \n",
              "2          8018A  1944    4    3  ELCHE       95  701719  4238104  230.0   \n",
              "3          8018A  1944    4    4  ELCHE       95  701719  4238104  280.0   \n",
              "4          8018A  1944    4    5  ELCHE       95  701719  4238104  250.0   \n",
              "...          ...   ...  ...  ...    ...      ...     ...      ...    ...   \n",
              "27317      8018A  2024   12   27  ELCHE       95  701719  4238104  145.0   \n",
              "27318      8018A  2024   12   28  ELCHE       95  701719  4238104  157.0   \n",
              "27319      8018A  2024   12   29  ELCHE       95  701719  4238104  157.0   \n",
              "27320      8018A  2024   12   30  ELCHE       95  701719  4238104  147.0   \n",
              "27321      8018A  2024   12   31  ELCHE       95  701719  4238104  147.0   \n",
              "\n",
              "        TMIN   TMED  \n",
              "0      110.0  195.0  \n",
              "1      130.0  180.0  \n",
              "2      140.0  185.0  \n",
              "3      150.0  215.0  \n",
              "4      150.0  200.0  \n",
              "...      ...    ...  \n",
              "27317   78.0  112.0  \n",
              "27318   98.0  128.0  \n",
              "27319   72.0  114.0  \n",
              "27320   71.0  109.0  \n",
              "27321   95.0  121.0  \n",
              "\n",
              "[27322 rows x 11 columns]"
            ]
          },
          "execution_count": 14,
          "metadata": {},
          "output_type": "execute_result"
        }
      ],
      "source": [
        "df_termo"
      ]
    },
    {
      "cell_type": "code",
      "execution_count": 15,
      "metadata": {
        "id": "zTPMIKoKDRwF"
      },
      "outputs": [],
      "source": [
        "df_pluvio = df_pluvio[df_pluvio[\"INDICATIVO\"] == \"8018A\"]"
      ]
    },
    {
      "cell_type": "markdown",
      "metadata": {
        "id": "hCB7IMKJL8Sd"
      },
      "source": [
        "# Transformacion del dataset"
      ]
    },
    {
      "cell_type": "markdown",
      "metadata": {
        "id": "Jf1UiC5CD10V"
      },
      "source": [
        "# Generamos una columna ID para los datos y Mergeamos los Datasets"
      ]
    },
    {
      "cell_type": "code",
      "execution_count": 16,
      "metadata": {
        "colab": {
          "base_uri": "https://localhost:8080/"
        },
        "id": "Z68rMTYID1Wl",
        "outputId": "a209dcb8-aa0d-40ec-db81-f527b83f23b1"
      },
      "outputs": [
        {
          "name": "stderr",
          "output_type": "stream",
          "text": [
            "C:\\Users\\danie\\AppData\\Local\\Temp\\ipykernel_17660\\3483507549.py:2: SettingWithCopyWarning: \n",
            "A value is trying to be set on a copy of a slice from a DataFrame.\n",
            "Try using .loc[row_indexer,col_indexer] = value instead\n",
            "\n",
            "See the caveats in the documentation: https://pandas.pydata.org/pandas-docs/stable/user_guide/indexing.html#returning-a-view-versus-a-copy\n",
            "  df_termo['ID'] = df_termo['DIA'].astype(str) + '_' + df_termo['MES'].astype(str) + '_' + df_termo['AÑO'].astype(str)\n",
            "C:\\Users\\danie\\AppData\\Local\\Temp\\ipykernel_17660\\3483507549.py:3: SettingWithCopyWarning: \n",
            "A value is trying to be set on a copy of a slice from a DataFrame.\n",
            "Try using .loc[row_indexer,col_indexer] = value instead\n",
            "\n",
            "See the caveats in the documentation: https://pandas.pydata.org/pandas-docs/stable/user_guide/indexing.html#returning-a-view-versus-a-copy\n",
            "  df_pluvio['ID'] = df_pluvio['DIA'].astype(str) + '_' + df_pluvio['MES'].astype(str) + '_' + df_pluvio['AÑO'].astype(str)\n"
          ]
        }
      ],
      "source": [
        "# Crear la columna ID concatenando las columnas\n",
        "df_termo['ID'] = df_termo['DIA'].astype(str) + '_' + df_termo['MES'].astype(str) + '_' + df_termo['AÑO'].astype(str)\n",
        "df_pluvio['ID'] = df_pluvio['DIA'].astype(str) + '_' + df_pluvio['MES'].astype(str) + '_' + df_pluvio['AÑO'].astype(str)\n",
        "\n",
        "pd_combinado = pd.merge(df_termo, df_pluvio, on=[\"ID\"], how=\"inner\")\n"
      ]
    },
    {
      "cell_type": "code",
      "execution_count": 17,
      "metadata": {
        "colab": {
          "base_uri": "https://localhost:8080/",
          "height": 444
        },
        "id": "CHeU6qdFE6ab",
        "outputId": "67cb2e95-46f4-40e1-a909-6e82338a8151"
      },
      "outputs": [
        {
          "data": {
            "text/html": [
              "<div>\n",
              "<style scoped>\n",
              "    .dataframe tbody tr th:only-of-type {\n",
              "        vertical-align: middle;\n",
              "    }\n",
              "\n",
              "    .dataframe tbody tr th {\n",
              "        vertical-align: top;\n",
              "    }\n",
              "\n",
              "    .dataframe thead th {\n",
              "        text-align: right;\n",
              "    }\n",
              "</style>\n",
              "<table border=\"1\" class=\"dataframe\">\n",
              "  <thead>\n",
              "    <tr style=\"text-align: right;\">\n",
              "      <th></th>\n",
              "      <th>INDICATIVO_x</th>\n",
              "      <th>AÑO_x</th>\n",
              "      <th>MES_x</th>\n",
              "      <th>DIA_x</th>\n",
              "      <th>NOMBRE_x</th>\n",
              "      <th>ALTITUD_x</th>\n",
              "      <th>C_X_x</th>\n",
              "      <th>C_Y_x</th>\n",
              "      <th>TMAX</th>\n",
              "      <th>TMIN</th>\n",
              "      <th>...</th>\n",
              "      <th>Niebla</th>\n",
              "      <th>Rocio</th>\n",
              "      <th>Escarcha</th>\n",
              "      <th>NieveSuelo</th>\n",
              "      <th>Neblina</th>\n",
              "      <th>Calima</th>\n",
              "      <th>VientoFuerte</th>\n",
              "      <th>Polvareda</th>\n",
              "      <th>MetPrecNoEspec</th>\n",
              "      <th>Otros</th>\n",
              "    </tr>\n",
              "  </thead>\n",
              "  <tbody>\n",
              "    <tr>\n",
              "      <th>0</th>\n",
              "      <td>8018A</td>\n",
              "      <td>1955</td>\n",
              "      <td>1</td>\n",
              "      <td>1</td>\n",
              "      <td>ELCHE</td>\n",
              "      <td>95</td>\n",
              "      <td>701719</td>\n",
              "      <td>4238104</td>\n",
              "      <td>150.0</td>\n",
              "      <td>70.0</td>\n",
              "      <td>...</td>\n",
              "      <td>NaN</td>\n",
              "      <td>NaN</td>\n",
              "      <td>NaN</td>\n",
              "      <td>NaN</td>\n",
              "      <td>NaN</td>\n",
              "      <td>NaN</td>\n",
              "      <td>NaN</td>\n",
              "      <td>NaN</td>\n",
              "      <td>NaN</td>\n",
              "      <td>NaN</td>\n",
              "    </tr>\n",
              "    <tr>\n",
              "      <th>1</th>\n",
              "      <td>8018A</td>\n",
              "      <td>1955</td>\n",
              "      <td>1</td>\n",
              "      <td>2</td>\n",
              "      <td>ELCHE</td>\n",
              "      <td>95</td>\n",
              "      <td>701719</td>\n",
              "      <td>4238104</td>\n",
              "      <td>150.0</td>\n",
              "      <td>70.0</td>\n",
              "      <td>...</td>\n",
              "      <td>NaN</td>\n",
              "      <td>NaN</td>\n",
              "      <td>NaN</td>\n",
              "      <td>NaN</td>\n",
              "      <td>NaN</td>\n",
              "      <td>NaN</td>\n",
              "      <td>NaN</td>\n",
              "      <td>NaN</td>\n",
              "      <td>NaN</td>\n",
              "      <td>NaN</td>\n",
              "    </tr>\n",
              "    <tr>\n",
              "      <th>2</th>\n",
              "      <td>8018A</td>\n",
              "      <td>1955</td>\n",
              "      <td>1</td>\n",
              "      <td>3</td>\n",
              "      <td>ELCHE</td>\n",
              "      <td>95</td>\n",
              "      <td>701719</td>\n",
              "      <td>4238104</td>\n",
              "      <td>140.0</td>\n",
              "      <td>100.0</td>\n",
              "      <td>...</td>\n",
              "      <td>NaN</td>\n",
              "      <td>NaN</td>\n",
              "      <td>NaN</td>\n",
              "      <td>NaN</td>\n",
              "      <td>NaN</td>\n",
              "      <td>NaN</td>\n",
              "      <td>NaN</td>\n",
              "      <td>NaN</td>\n",
              "      <td>NaN</td>\n",
              "      <td>NaN</td>\n",
              "    </tr>\n",
              "    <tr>\n",
              "      <th>3</th>\n",
              "      <td>8018A</td>\n",
              "      <td>1955</td>\n",
              "      <td>1</td>\n",
              "      <td>4</td>\n",
              "      <td>ELCHE</td>\n",
              "      <td>95</td>\n",
              "      <td>701719</td>\n",
              "      <td>4238104</td>\n",
              "      <td>185.0</td>\n",
              "      <td>115.0</td>\n",
              "      <td>...</td>\n",
              "      <td>NaN</td>\n",
              "      <td>NaN</td>\n",
              "      <td>NaN</td>\n",
              "      <td>NaN</td>\n",
              "      <td>NaN</td>\n",
              "      <td>NaN</td>\n",
              "      <td>NaN</td>\n",
              "      <td>NaN</td>\n",
              "      <td>NaN</td>\n",
              "      <td>NaN</td>\n",
              "    </tr>\n",
              "    <tr>\n",
              "      <th>4</th>\n",
              "      <td>8018A</td>\n",
              "      <td>1955</td>\n",
              "      <td>1</td>\n",
              "      <td>5</td>\n",
              "      <td>ELCHE</td>\n",
              "      <td>95</td>\n",
              "      <td>701719</td>\n",
              "      <td>4238104</td>\n",
              "      <td>175.0</td>\n",
              "      <td>105.0</td>\n",
              "      <td>...</td>\n",
              "      <td>NaN</td>\n",
              "      <td>NaN</td>\n",
              "      <td>NaN</td>\n",
              "      <td>NaN</td>\n",
              "      <td>NaN</td>\n",
              "      <td>NaN</td>\n",
              "      <td>NaN</td>\n",
              "      <td>NaN</td>\n",
              "      <td>NaN</td>\n",
              "      <td>NaN</td>\n",
              "    </tr>\n",
              "    <tr>\n",
              "      <th>...</th>\n",
              "      <td>...</td>\n",
              "      <td>...</td>\n",
              "      <td>...</td>\n",
              "      <td>...</td>\n",
              "      <td>...</td>\n",
              "      <td>...</td>\n",
              "      <td>...</td>\n",
              "      <td>...</td>\n",
              "      <td>...</td>\n",
              "      <td>...</td>\n",
              "      <td>...</td>\n",
              "      <td>...</td>\n",
              "      <td>...</td>\n",
              "      <td>...</td>\n",
              "      <td>...</td>\n",
              "      <td>...</td>\n",
              "      <td>...</td>\n",
              "      <td>...</td>\n",
              "      <td>...</td>\n",
              "      <td>...</td>\n",
              "      <td>...</td>\n",
              "    </tr>\n",
              "    <tr>\n",
              "      <th>24999</th>\n",
              "      <td>8018A</td>\n",
              "      <td>2024</td>\n",
              "      <td>12</td>\n",
              "      <td>27</td>\n",
              "      <td>ELCHE</td>\n",
              "      <td>95</td>\n",
              "      <td>701719</td>\n",
              "      <td>4238104</td>\n",
              "      <td>145.0</td>\n",
              "      <td>78.0</td>\n",
              "      <td>...</td>\n",
              "      <td>NaN</td>\n",
              "      <td>NaN</td>\n",
              "      <td>NaN</td>\n",
              "      <td>NaN</td>\n",
              "      <td>NaN</td>\n",
              "      <td>NaN</td>\n",
              "      <td>NaN</td>\n",
              "      <td>NaN</td>\n",
              "      <td>NaN</td>\n",
              "      <td>NaN</td>\n",
              "    </tr>\n",
              "    <tr>\n",
              "      <th>25000</th>\n",
              "      <td>8018A</td>\n",
              "      <td>2024</td>\n",
              "      <td>12</td>\n",
              "      <td>28</td>\n",
              "      <td>ELCHE</td>\n",
              "      <td>95</td>\n",
              "      <td>701719</td>\n",
              "      <td>4238104</td>\n",
              "      <td>157.0</td>\n",
              "      <td>98.0</td>\n",
              "      <td>...</td>\n",
              "      <td>NaN</td>\n",
              "      <td>N</td>\n",
              "      <td>NaN</td>\n",
              "      <td>NaN</td>\n",
              "      <td>NaN</td>\n",
              "      <td>NaN</td>\n",
              "      <td>NaN</td>\n",
              "      <td>NaN</td>\n",
              "      <td>NaN</td>\n",
              "      <td>NaN</td>\n",
              "    </tr>\n",
              "    <tr>\n",
              "      <th>25001</th>\n",
              "      <td>8018A</td>\n",
              "      <td>2024</td>\n",
              "      <td>12</td>\n",
              "      <td>29</td>\n",
              "      <td>ELCHE</td>\n",
              "      <td>95</td>\n",
              "      <td>701719</td>\n",
              "      <td>4238104</td>\n",
              "      <td>157.0</td>\n",
              "      <td>72.0</td>\n",
              "      <td>...</td>\n",
              "      <td>NaN</td>\n",
              "      <td>N</td>\n",
              "      <td>NaN</td>\n",
              "      <td>NaN</td>\n",
              "      <td>NaN</td>\n",
              "      <td>NaN</td>\n",
              "      <td>NaN</td>\n",
              "      <td>NaN</td>\n",
              "      <td>NaN</td>\n",
              "      <td>NaN</td>\n",
              "    </tr>\n",
              "    <tr>\n",
              "      <th>25002</th>\n",
              "      <td>8018A</td>\n",
              "      <td>2024</td>\n",
              "      <td>12</td>\n",
              "      <td>30</td>\n",
              "      <td>ELCHE</td>\n",
              "      <td>95</td>\n",
              "      <td>701719</td>\n",
              "      <td>4238104</td>\n",
              "      <td>147.0</td>\n",
              "      <td>71.0</td>\n",
              "      <td>...</td>\n",
              "      <td>NaN</td>\n",
              "      <td>NaN</td>\n",
              "      <td>NaN</td>\n",
              "      <td>NaN</td>\n",
              "      <td>NaN</td>\n",
              "      <td>NaN</td>\n",
              "      <td>NaN</td>\n",
              "      <td>NaN</td>\n",
              "      <td>NaN</td>\n",
              "      <td>NaN</td>\n",
              "    </tr>\n",
              "    <tr>\n",
              "      <th>25003</th>\n",
              "      <td>8018A</td>\n",
              "      <td>2024</td>\n",
              "      <td>12</td>\n",
              "      <td>31</td>\n",
              "      <td>ELCHE</td>\n",
              "      <td>95</td>\n",
              "      <td>701719</td>\n",
              "      <td>4238104</td>\n",
              "      <td>147.0</td>\n",
              "      <td>95.0</td>\n",
              "      <td>...</td>\n",
              "      <td>NaN</td>\n",
              "      <td>NaN</td>\n",
              "      <td>NaN</td>\n",
              "      <td>NaN</td>\n",
              "      <td>NaN</td>\n",
              "      <td>NaN</td>\n",
              "      <td>NaN</td>\n",
              "      <td>NaN</td>\n",
              "      <td>NaN</td>\n",
              "      <td>NaN</td>\n",
              "    </tr>\n",
              "  </tbody>\n",
              "</table>\n",
              "<p>25004 rows × 35 columns</p>\n",
              "</div>"
            ],
            "text/plain": [
              "      INDICATIVO_x  AÑO_x  MES_x  DIA_x NOMBRE_x  ALTITUD_x   C_X_x    C_Y_x  \\\n",
              "0            8018A   1955      1      1    ELCHE         95  701719  4238104   \n",
              "1            8018A   1955      1      2    ELCHE         95  701719  4238104   \n",
              "2            8018A   1955      1      3    ELCHE         95  701719  4238104   \n",
              "3            8018A   1955      1      4    ELCHE         95  701719  4238104   \n",
              "4            8018A   1955      1      5    ELCHE         95  701719  4238104   \n",
              "...            ...    ...    ...    ...      ...        ...     ...      ...   \n",
              "24999        8018A   2024     12     27    ELCHE         95  701719  4238104   \n",
              "25000        8018A   2024     12     28    ELCHE         95  701719  4238104   \n",
              "25001        8018A   2024     12     29    ELCHE         95  701719  4238104   \n",
              "25002        8018A   2024     12     30    ELCHE         95  701719  4238104   \n",
              "25003        8018A   2024     12     31    ELCHE         95  701719  4238104   \n",
              "\n",
              "        TMAX   TMIN  ...  Niebla Rocio Escarcha  NieveSuelo  Neblina  Calima  \\\n",
              "0      150.0   70.0  ...     NaN   NaN      NaN         NaN      NaN     NaN   \n",
              "1      150.0   70.0  ...     NaN   NaN      NaN         NaN      NaN     NaN   \n",
              "2      140.0  100.0  ...     NaN   NaN      NaN         NaN      NaN     NaN   \n",
              "3      185.0  115.0  ...     NaN   NaN      NaN         NaN      NaN     NaN   \n",
              "4      175.0  105.0  ...     NaN   NaN      NaN         NaN      NaN     NaN   \n",
              "...      ...    ...  ...     ...   ...      ...         ...      ...     ...   \n",
              "24999  145.0   78.0  ...     NaN   NaN      NaN         NaN      NaN     NaN   \n",
              "25000  157.0   98.0  ...     NaN     N      NaN         NaN      NaN     NaN   \n",
              "25001  157.0   72.0  ...     NaN     N      NaN         NaN      NaN     NaN   \n",
              "25002  147.0   71.0  ...     NaN   NaN      NaN         NaN      NaN     NaN   \n",
              "25003  147.0   95.0  ...     NaN   NaN      NaN         NaN      NaN     NaN   \n",
              "\n",
              "      VientoFuerte  Polvareda  MetPrecNoEspec  Otros  \n",
              "0              NaN        NaN             NaN    NaN  \n",
              "1              NaN        NaN             NaN    NaN  \n",
              "2              NaN        NaN             NaN    NaN  \n",
              "3              NaN        NaN             NaN    NaN  \n",
              "4              NaN        NaN             NaN    NaN  \n",
              "...            ...        ...             ...    ...  \n",
              "24999          NaN        NaN             NaN    NaN  \n",
              "25000          NaN        NaN             NaN    NaN  \n",
              "25001          NaN        NaN             NaN    NaN  \n",
              "25002          NaN        NaN             NaN    NaN  \n",
              "25003          NaN        NaN             NaN    NaN  \n",
              "\n",
              "[25004 rows x 35 columns]"
            ]
          },
          "execution_count": 17,
          "metadata": {},
          "output_type": "execute_result"
        }
      ],
      "source": [
        "pd_combinado"
      ]
    },
    {
      "cell_type": "code",
      "execution_count": 18,
      "metadata": {
        "colab": {
          "base_uri": "https://localhost:8080/"
        },
        "id": "UdnDB7DjE7df",
        "outputId": "ab644ee4-a276-47eb-d26b-8c5d13e514cd"
      },
      "outputs": [
        {
          "name": "stderr",
          "output_type": "stream",
          "text": [
            "C:\\Users\\danie\\AppData\\Local\\Temp\\ipykernel_17660\\374063353.py:3: FutureWarning: Downcasting object dtype arrays on .fillna, .ffill, .bfill is deprecated and will change in a future version. Call result.infer_objects(copy=False) instead. To opt-in to the future behavior, set `pd.set_option('future.no_silent_downcasting', True)`\n",
            "  pd_combinado = pd_combinado.fillna(0)\n"
          ]
        }
      ],
      "source": [
        "# Rellenar los valores NaN con 0\n",
        "\n",
        "pd_combinado = pd_combinado.fillna(0)\n"
      ]
    },
    {
      "cell_type": "code",
      "execution_count": 19,
      "metadata": {
        "colab": {
          "base_uri": "https://localhost:8080/"
        },
        "id": "xH2C7GafG0iC",
        "outputId": "e03de393-cba3-459c-d4da-f9813a3ad298"
      },
      "outputs": [
        {
          "name": "stderr",
          "output_type": "stream",
          "text": [
            "C:\\Users\\danie\\AppData\\Local\\Temp\\ipykernel_17660\\3445373414.py:3: FutureWarning: DataFrame.applymap has been deprecated. Use DataFrame.map instead.\n",
            "  pd_combinado = pd_combinado.applymap(lambda x: x.strip() if isinstance(x, str) else x)\n"
          ]
        }
      ],
      "source": [
        "# Eliminar espacios en blanco al inicio y al final de las cadenas de texto en todo el DataFrame\n",
        "\n",
        "pd_combinado = pd_combinado.applymap(lambda x: x.strip() if isinstance(x, str) else x)"
      ]
    },
    {
      "cell_type": "markdown",
      "metadata": {
        "id": "gCA3TgzmMO7T"
      },
      "source": [
        "## Reemplazamos los valores de texto en el tipo de temporal\n"
      ]
    },
    {
      "cell_type": "code",
      "execution_count": 20,
      "metadata": {
        "colab": {
          "base_uri": "https://localhost:8080/",
          "height": 480
        },
        "id": "ctxDckcGFitF",
        "outputId": "2e0c1488-8772-4bd4-b923-d8bb2fd21c20"
      },
      "outputs": [
        {
          "name": "stderr",
          "output_type": "stream",
          "text": [
            "C:\\Users\\danie\\AppData\\Local\\Temp\\ipykernel_17660\\1562565335.py:5: FutureWarning: Downcasting behavior in `replace` is deprecated and will be removed in a future version. To retain the old behavior, explicitly call `result.infer_objects(copy=False)`. To opt-in to the future behavior, set `pd.set_option('future.no_silent_downcasting', True)`\n",
            "  pd_combinado = pd_combinado.replace(valores_a_reemplazar, 1)\n"
          ]
        }
      ],
      "source": [
        "# Lista de valores a reemplazar\n",
        "valores_a_reemplazar = ['A', 'B', 'C', 'D', 'T', 'M', 'X', 'N']\n",
        "\n",
        "# Reemplazar por 1 en todo el DataFrame\n",
        "pd_combinado = pd_combinado.replace(valores_a_reemplazar, 1)\n"
      ]
    },
    {
      "cell_type": "code",
      "execution_count": 21,
      "metadata": {
        "colab": {
          "base_uri": "https://localhost:8080/"
        },
        "id": "iBvVyyUVIJO1",
        "outputId": "060261e2-bba4-4f70-f91b-9982e1889d5e"
      },
      "outputs": [
        {
          "data": {
            "text/plain": [
              "Index(['INDICATIVO_x', 'AÑO_x', 'MES_x', 'DIA_x', 'NOMBRE_x', 'ALTITUD_x',\n",
              "       'C_X_x', 'C_Y_x', 'TMAX', 'TMIN', 'TMED', 'ID', 'INDICATIVO_y', 'AÑO_y',\n",
              "       'MES_y', 'DIA_y', 'NOMBRE_y', 'ALTITUD_y', 'C_X_y', 'C_Y_y', 'P77',\n",
              "       'Lluvia', 'Nieve', 'Granizo', 'Tormenta', 'Niebla', 'Rocio', 'Escarcha',\n",
              "       'NieveSuelo', 'Neblina', 'Calima', 'VientoFuerte', 'Polvareda',\n",
              "       'MetPrecNoEspec', 'Otros'],\n",
              "      dtype='object')"
            ]
          },
          "execution_count": 21,
          "metadata": {},
          "output_type": "execute_result"
        }
      ],
      "source": [
        "pd_combinado.columns"
      ]
    },
    {
      "cell_type": "markdown",
      "metadata": {
        "id": "o8hpZ009Qjy2"
      },
      "source": [
        "## Transformaciones a las fechas\n",
        "\n",
        "En este proyecto realizaremos una transformación especial sobre las fechas para que tengan una dispersión homogénea.\n",
        "\n",
        "El motivo es que, de forma natural, los modelos tienden a interpretar que el día 30 está muy alejado del día 1, lo cual es cierto dentro de un mismo mes, pero deja de serlo al pasar de un mes a otro, ya que en realidad son días consecutivos.\n",
        "\n",
        "Para evitar este problema y representar correctamente la naturaleza cíclica del calendario, aplicaremos una transformación que distribuya los días de manera uniforme, manteniendo la continuidad entre el final y el inicio del mes."
      ]
    },
    {
      "cell_type": "code",
      "execution_count": 22,
      "metadata": {
        "id": "i9l5feWTILHn"
      },
      "outputs": [],
      "source": [
        "pd_combinado[\"Fecha_numerica\"] = pd_combinado['DIA_x'].astype(str) + \"/\" + pd_combinado['MES_x'].astype(str) + \"/\" + pd_combinado['AÑO_x'].astype(str)"
      ]
    },
    {
      "cell_type": "code",
      "execution_count": 23,
      "metadata": {
        "id": "znAovbQLOT6Z"
      },
      "outputs": [],
      "source": [
        "pd_combinado['fecha'] = pd.to_datetime(pd_combinado['Fecha_numerica'],  format='%d/%m/%Y')\n",
        "\n",
        "# Ordenar el DataFrame por la columna \"fecha\"\n",
        "df = pd_combinado.sort_values(by='fecha')"
      ]
    },
    {
      "cell_type": "code",
      "execution_count": 24,
      "metadata": {
        "id": "KuWT19vqQvA2"
      },
      "outputs": [],
      "source": [
        "# Descomponer la fecha, ya que las redes neuronales no entienden directamente las fechas.\n",
        "df[\"dia_del_anio\"] = df[\"fecha\"].dt.dayofyear  # Valores entre 1-365"
      ]
    },
    {
      "cell_type": "code",
      "execution_count": 25,
      "metadata": {
        "id": "D3O4TmTWR7fu"
      },
      "outputs": [],
      "source": [
        "# Target desplazado 2 días.\n",
        "df['target_t_max'] = df['TMAX'].shift(-2)\n",
        "\n",
        "# Eliminar las filas sin target\n",
        "df = df.dropna(subset=[\"target_t_max\"])"
      ]
    },
    {
      "cell_type": "code",
      "execution_count": 26,
      "metadata": {
        "colab": {
          "base_uri": "https://localhost:8080/"
        },
        "id": "XFbA8y2hQu4j",
        "outputId": "2b1eec79-ad3d-4433-8469-96eb8b3ff67f"
      },
      "outputs": [],
      "source": [
        "import numpy as np\n",
        "\n",
        "# Valores del día utilizando seno coseno.\n",
        "# Codificación cíclica para día del año\n",
        "df[\"dia_sen\"] = np.sin(2 * np.pi * df[\"dia_del_anio\"] / 365)\n",
        "df[\"dia_cos\"] = np.cos(2 * np.pi * df[\"dia_del_anio\"] / 365)"
      ]
    },
    {
      "cell_type": "code",
      "execution_count": 27,
      "metadata": {
        "colab": {
          "base_uri": "https://localhost:8080/"
        },
        "id": "xc26jTqhQuzW",
        "outputId": "6775c3b0-9f2d-49d6-c49d-1ebf0fe998f4"
      },
      "outputs": [],
      "source": [
        "df[\"mes\"] = df[\"fecha\"].dt.month"
      ]
    },
    {
      "cell_type": "code",
      "execution_count": 28,
      "metadata": {
        "colab": {
          "base_uri": "https://localhost:8080/"
        },
        "id": "rK5inrD5RBnd",
        "outputId": "c417eb22-b822-4f32-a4ea-17c049cfbc80"
      },
      "outputs": [],
      "source": [
        "# Mes cíclico\n",
        "# Para la hora (ciclo diario, aunque en tu caso es constante)\n",
        "df[\"mes_sen\"] = np.sin(2 * np.pi * df[\"mes\"] / 12)\n",
        "df[\"mes_cos\"] = np.cos(2 * np.pi * df[\"mes\"] / 12)"
      ]
    },
    {
      "cell_type": "code",
      "execution_count": 29,
      "metadata": {
        "id": "Ojqmdm1XRErs"
      },
      "outputs": [],
      "source": [
        "# Elimino características para evitar redundancias.\n",
        "df = df.drop(columns=[\"mes\", \"dia_del_anio\"])"
      ]
    },
    {
      "cell_type": "markdown",
      "metadata": {
        "id": "iUWfLw4tRJki"
      },
      "source": [
        "## Creacion de las caracteristicas"
      ]
    },
    {
      "cell_type": "code",
      "execution_count": 30,
      "metadata": {
        "id": "Yxn-Zm6oRH35"
      },
      "outputs": [],
      "source": [
        "# Temperatura máxima de días anteriores\n",
        "df[\"t_max_lag1\"] = df[\"TMAX\"].shift(1)\n",
        "df[\"t_max_lag2\"] = df[\"TMAX\"].shift(2)"
      ]
    },
    {
      "cell_type": "code",
      "execution_count": 31,
      "metadata": {
        "id": "LvtOWR38RYfy"
      },
      "outputs": [],
      "source": [
        "# Promedio móvil de temperatura máxima (ej. últimos 3 días)\n",
        "df[\"t_max_rolling3\"] = df[\"TMAX\"].rolling(window=3).mean()"
      ]
    },
    {
      "cell_type": "code",
      "execution_count": 32,
      "metadata": {
        "id": "IGebWcvhRboY"
      },
      "outputs": [],
      "source": [
        "# Diferencia de temperatura del día anterior.\n",
        "df['dif_t_ayer'] = df[\"TMAX\"].shift(1) - df[\"TMIN\"].shift(1)"
      ]
    },
    {
      "cell_type": "code",
      "execution_count": 33,
      "metadata": {
        "id": "zpw5V1FqOfC8"
      },
      "outputs": [],
      "source": [
        "df.drop(columns=[\"Fecha_numerica\", \"fecha\"],  inplace = True)"
      ]
    },
    {
      "cell_type": "code",
      "execution_count": 34,
      "metadata": {
        "id": "Pz5Dyi3USQty"
      },
      "outputs": [],
      "source": [
        "# Eliminamos columnas para evitar redundancias\n",
        "df.drop(columns=[\"AÑO_x\", \"MES_x\", \"DIA_x\"], inplace = True)"
      ]
    },
    {
      "cell_type": "code",
      "execution_count": 35,
      "metadata": {
        "id": "38RsZ5aFSar5"
      },
      "outputs": [],
      "source": [
        "df = df.dropna()"
      ]
    },
    {
      "cell_type": "markdown",
      "metadata": {
        "id": "Tl2PfiQwP-Ef"
      },
      "source": [
        "## Visualizamos las columnas de temporal"
      ]
    },
    {
      "cell_type": "code",
      "execution_count": 36,
      "metadata": {
        "colab": {
          "base_uri": "https://localhost:8080/"
        },
        "id": "yklhHpvbKqQy",
        "outputId": "a2dffde3-771e-472c-a764-dc87fe46623c"
      },
      "outputs": [
        {
          "name": "stdout",
          "output_type": "stream",
          "text": [
            "[0 1]\n",
            "[0 1]\n",
            "[0 1]\n",
            "[0 1]\n",
            "[0 1]\n",
            "[0 1]\n",
            "[0 1]\n",
            "[0]\n",
            "[0.]\n",
            "[0.]\n",
            "[0.]\n",
            "[0.]\n",
            "[0]\n"
          ]
        }
      ],
      "source": [
        "lista_eventos = ['Lluvia', 'Nieve', 'Granizo', 'Tormenta', 'Niebla', 'Rocio', 'Escarcha',\n",
        "       'NieveSuelo', 'Neblina', 'Calima', 'VientoFuerte', 'Polvareda',\n",
        "       'MetPrecNoEspec']\n",
        "\n",
        "for evento in lista_eventos:\n",
        "  print(df[evento].unique())"
      ]
    },
    {
      "cell_type": "code",
      "execution_count": 37,
      "metadata": {
        "colab": {
          "base_uri": "https://localhost:8080/"
        },
        "id": "tcCi9W-vW6d5",
        "outputId": "8a8fd5be-6739-46df-8709-48b5eeab3269"
      },
      "outputs": [],
      "source": [
        "# Eliminamos las caracteristicas que no tienen valor\n",
        "\n",
        "df.drop(columns=['NieveSuelo', 'Neblina', 'Calima', 'VientoFuerte', 'Polvareda',\n",
        "       'MetPrecNoEspec'], inplace = True)"
      ]
    },
    {
      "cell_type": "code",
      "execution_count": 38,
      "metadata": {
        "colab": {
          "base_uri": "https://localhost:8080/"
        },
        "id": "m-ROkDERpghA",
        "outputId": "6d3a2891-78e6-48b1-f2e2-892d9962f542"
      },
      "outputs": [
        {
          "data": {
            "text/plain": [
              "Index(['INDICATIVO_x', 'NOMBRE_x', 'ALTITUD_x', 'C_X_x', 'C_Y_x', 'TMAX',\n",
              "       'TMIN', 'TMED', 'ID', 'INDICATIVO_y', 'AÑO_y', 'MES_y', 'DIA_y',\n",
              "       'NOMBRE_y', 'ALTITUD_y', 'C_X_y', 'C_Y_y', 'P77', 'Lluvia', 'Nieve',\n",
              "       'Granizo', 'Tormenta', 'Niebla', 'Rocio', 'Escarcha', 'Otros',\n",
              "       'target_t_max', 'dia_sen', 'dia_cos', 'mes_sen', 'mes_cos',\n",
              "       't_max_lag1', 't_max_lag2', 't_max_rolling3', 'dif_t_ayer'],\n",
              "      dtype='object')"
            ]
          },
          "execution_count": 38,
          "metadata": {},
          "output_type": "execute_result"
        }
      ],
      "source": [
        "df.columns"
      ]
    },
    {
      "cell_type": "code",
      "execution_count": 39,
      "metadata": {
        "colab": {
          "base_uri": "https://localhost:8080/"
        },
        "id": "D17DHfRTYSsk",
        "outputId": "885a45f6-64fd-4f99-c193-2e399b8f350a"
      },
      "outputs": [],
      "source": [
        "df.drop(columns=['INDICATIVO_x', 'NOMBRE_x', 'ALTITUD_x', 'C_X_x', 'C_Y_x', 'MES_y', 'P77',\n",
        "       'ID', 'INDICATIVO_y', 'AÑO_y', 'DIA_y', 'NOMBRE_y', 'ALTITUD_y', 'C_X_y', 'C_Y_y'], inplace=True)"
      ]
    },
    {
      "cell_type": "code",
      "execution_count": 41,
      "metadata": {
        "id": "OabWH7EJpY1Y"
      },
      "outputs": [],
      "source": [
        "from sklearn.preprocessing import StandardScaler\n",
        "import numpy as np\n",
        "\n",
        "# Cargar dataset\n",
        "y = df['target_t_max']  # Target (temperatura)\n",
        "X = df.drop(columns=['target_t_max'])  # Variables de entrada\n",
        "\n",
        "# Crear escaladores\n",
        "scaler_X = StandardScaler()  # Para las features\n",
        "scaler_y = StandardScaler()  # Para el target\n",
        "\n",
        "# Normalizar los datos\n",
        "X_scaled = scaler_X.fit_transform(X)\n",
        "y_scaled = scaler_y.fit_transform(y.values.reshape(-1, 1))  # reshape para que funcione correctamente\n"
      ]
    },
    {
      "cell_type": "code",
      "execution_count": 42,
      "metadata": {
        "colab": {
          "base_uri": "https://localhost:8080/"
        },
        "id": "qMtM7X11rLUa",
        "outputId": "5db8bd20-f948-4f11-dec8-1fe9a1330617"
      },
      "outputs": [
        {
          "name": "stderr",
          "output_type": "stream",
          "text": [
            "c:\\Users\\danie\\Documents\\prediccion_temperaturas\\env\\Lib\\site-packages\\keras\\src\\layers\\core\\dense.py:92: UserWarning: Do not pass an `input_shape`/`input_dim` argument to a layer. When using Sequential models, prefer using an `Input(shape)` object as the first layer in the model instead.\n",
            "  super().__init__(activity_regularizer=activity_regularizer, **kwargs)\n"
          ]
        },
        {
          "name": "stdout",
          "output_type": "stream",
          "text": [
            "Epoch 1/25\n",
            "\u001b[1m625/625\u001b[0m \u001b[32m━━━━━━━━━━━━━━━━━━━━\u001b[0m\u001b[37m\u001b[0m \u001b[1m3s\u001b[0m 3ms/step - loss: 0.2386 - mae: 0.3501 - val_loss: 0.2018 - val_mae: 0.3265\n",
            "Epoch 2/25\n",
            "\u001b[1m625/625\u001b[0m \u001b[32m━━━━━━━━━━━━━━━━━━━━\u001b[0m\u001b[37m\u001b[0m \u001b[1m1s\u001b[0m 2ms/step - loss: 0.2119 - mae: 0.3324 - val_loss: 0.1960 - val_mae: 0.3203\n",
            "Epoch 3/25\n",
            "\u001b[1m625/625\u001b[0m \u001b[32m━━━━━━━━━━━━━━━━━━━━\u001b[0m\u001b[37m\u001b[0m \u001b[1m1s\u001b[0m 2ms/step - loss: 0.2098 - mae: 0.3306 - val_loss: 0.1960 - val_mae: 0.3203\n",
            "Epoch 4/25\n",
            "\u001b[1m625/625\u001b[0m \u001b[32m━━━━━━━━━━━━━━━━━━━━\u001b[0m\u001b[37m\u001b[0m \u001b[1m1s\u001b[0m 2ms/step - loss: 0.2052 - mae: 0.3277 - val_loss: 0.1951 - val_mae: 0.3196\n",
            "Epoch 5/25\n",
            "\u001b[1m625/625\u001b[0m \u001b[32m━━━━━━━━━━━━━━━━━━━━\u001b[0m\u001b[37m\u001b[0m \u001b[1m1s\u001b[0m 2ms/step - loss: 0.2053 - mae: 0.3273 - val_loss: 0.1976 - val_mae: 0.3216\n",
            "Epoch 6/25\n",
            "\u001b[1m625/625\u001b[0m \u001b[32m━━━━━━━━━━━━━━━━━━━━\u001b[0m\u001b[37m\u001b[0m \u001b[1m1s\u001b[0m 2ms/step - loss: 0.2048 - mae: 0.3276 - val_loss: 0.1956 - val_mae: 0.3199\n",
            "Epoch 7/25\n",
            "\u001b[1m625/625\u001b[0m \u001b[32m━━━━━━━━━━━━━━━━━━━━\u001b[0m\u001b[37m\u001b[0m \u001b[1m1s\u001b[0m 2ms/step - loss: 0.2044 - mae: 0.3269 - val_loss: 0.1948 - val_mae: 0.3189\n",
            "Epoch 8/25\n",
            "\u001b[1m625/625\u001b[0m \u001b[32m━━━━━━━━━━━━━━━━━━━━\u001b[0m\u001b[37m\u001b[0m \u001b[1m1s\u001b[0m 2ms/step - loss: 0.2035 - mae: 0.3261 - val_loss: 0.1937 - val_mae: 0.3171\n",
            "Epoch 9/25\n",
            "\u001b[1m625/625\u001b[0m \u001b[32m━━━━━━━━━━━━━━━━━━━━\u001b[0m\u001b[37m\u001b[0m \u001b[1m1s\u001b[0m 2ms/step - loss: 0.2025 - mae: 0.3250 - val_loss: 0.1961 - val_mae: 0.3193\n",
            "Epoch 10/25\n",
            "\u001b[1m625/625\u001b[0m \u001b[32m━━━━━━━━━━━━━━━━━━━━\u001b[0m\u001b[37m\u001b[0m \u001b[1m1s\u001b[0m 2ms/step - loss: 0.2033 - mae: 0.3256 - val_loss: 0.1991 - val_mae: 0.3229\n",
            "Epoch 11/25\n",
            "\u001b[1m625/625\u001b[0m \u001b[32m━━━━━━━━━━━━━━━━━━━━\u001b[0m\u001b[37m\u001b[0m \u001b[1m1s\u001b[0m 2ms/step - loss: 0.2026 - mae: 0.3250 - val_loss: 0.1952 - val_mae: 0.3198\n",
            "Epoch 12/25\n",
            "\u001b[1m625/625\u001b[0m \u001b[32m━━━━━━━━━━━━━━━━━━━━\u001b[0m\u001b[37m\u001b[0m \u001b[1m1s\u001b[0m 2ms/step - loss: 0.2014 - mae: 0.3241 - val_loss: 0.1958 - val_mae: 0.3199\n",
            "Epoch 13/25\n",
            "\u001b[1m625/625\u001b[0m \u001b[32m━━━━━━━━━━━━━━━━━━━━\u001b[0m\u001b[37m\u001b[0m \u001b[1m1s\u001b[0m 2ms/step - loss: 0.2014 - mae: 0.3249 - val_loss: 0.2022 - val_mae: 0.3261\n",
            "Epoch 14/25\n",
            "\u001b[1m625/625\u001b[0m \u001b[32m━━━━━━━━━━━━━━━━━━━━\u001b[0m\u001b[37m\u001b[0m \u001b[1m1s\u001b[0m 2ms/step - loss: 0.2011 - mae: 0.3237 - val_loss: 0.1966 - val_mae: 0.3203\n",
            "Epoch 15/25\n",
            "\u001b[1m625/625\u001b[0m \u001b[32m━━━━━━━━━━━━━━━━━━━━\u001b[0m\u001b[37m\u001b[0m \u001b[1m1s\u001b[0m 2ms/step - loss: 0.2007 - mae: 0.3243 - val_loss: 0.1953 - val_mae: 0.3192\n",
            "Epoch 16/25\n",
            "\u001b[1m625/625\u001b[0m \u001b[32m━━━━━━━━━━━━━━━━━━━━\u001b[0m\u001b[37m\u001b[0m \u001b[1m1s\u001b[0m 2ms/step - loss: 0.2003 - mae: 0.3235 - val_loss: 0.1998 - val_mae: 0.3234\n",
            "Epoch 17/25\n",
            "\u001b[1m625/625\u001b[0m \u001b[32m━━━━━━━━━━━━━━━━━━━━\u001b[0m\u001b[37m\u001b[0m \u001b[1m1s\u001b[0m 2ms/step - loss: 0.2003 - mae: 0.3239 - val_loss: 0.1968 - val_mae: 0.3201\n",
            "Epoch 18/25\n",
            "\u001b[1m625/625\u001b[0m \u001b[32m━━━━━━━━━━━━━━━━━━━━\u001b[0m\u001b[37m\u001b[0m \u001b[1m1s\u001b[0m 2ms/step - loss: 0.1999 - mae: 0.3230 - val_loss: 0.1968 - val_mae: 0.3211\n",
            "Epoch 19/25\n",
            "\u001b[1m625/625\u001b[0m \u001b[32m━━━━━━━━━━━━━━━━━━━━\u001b[0m\u001b[37m\u001b[0m \u001b[1m2s\u001b[0m 2ms/step - loss: 0.1998 - mae: 0.3231 - val_loss: 0.1968 - val_mae: 0.3198\n",
            "Epoch 20/25\n",
            "\u001b[1m625/625\u001b[0m \u001b[32m━━━━━━━━━━━━━━━━━━━━\u001b[0m\u001b[37m\u001b[0m \u001b[1m2s\u001b[0m 2ms/step - loss: 0.1992 - mae: 0.3227 - val_loss: 0.1958 - val_mae: 0.3188\n",
            "Epoch 21/25\n",
            "\u001b[1m625/625\u001b[0m \u001b[32m━━━━━━━━━━━━━━━━━━━━\u001b[0m\u001b[37m\u001b[0m \u001b[1m1s\u001b[0m 2ms/step - loss: 0.1993 - mae: 0.3219 - val_loss: 0.1975 - val_mae: 0.3200\n",
            "Epoch 22/25\n",
            "\u001b[1m625/625\u001b[0m \u001b[32m━━━━━━━━━━━━━━━━━━━━\u001b[0m\u001b[37m\u001b[0m \u001b[1m1s\u001b[0m 2ms/step - loss: 0.1986 - mae: 0.3219 - val_loss: 0.1946 - val_mae: 0.3182\n",
            "Epoch 23/25\n",
            "\u001b[1m625/625\u001b[0m \u001b[32m━━━━━━━━━━━━━━━━━━━━\u001b[0m\u001b[37m\u001b[0m \u001b[1m1s\u001b[0m 2ms/step - loss: 0.1993 - mae: 0.3222 - val_loss: 0.1967 - val_mae: 0.3198\n",
            "Epoch 24/25\n",
            "\u001b[1m625/625\u001b[0m \u001b[32m━━━━━━━━━━━━━━━━━━━━\u001b[0m\u001b[37m\u001b[0m \u001b[1m3s\u001b[0m 2ms/step - loss: 0.1985 - mae: 0.3221 - val_loss: 0.2020 - val_mae: 0.3240\n",
            "Epoch 25/25\n",
            "\u001b[1m625/625\u001b[0m \u001b[32m━━━━━━━━━━━━━━━━━━━━\u001b[0m\u001b[37m\u001b[0m \u001b[1m1s\u001b[0m 2ms/step - loss: 0.1981 - mae: 0.3216 - val_loss: 0.2047 - val_mae: 0.3290\n",
            "\u001b[1m157/157\u001b[0m \u001b[32m━━━━━━━━━━━━━━━━━━━━\u001b[0m\u001b[37m\u001b[0m \u001b[1m0s\u001b[0m 1ms/step\n",
            "Predicción escalada: -0.1725, Desnormalizada: 222.11\n"
          ]
        }
      ],
      "source": [
        "import numpy as np\n",
        "import pandas as pd\n",
        "import tensorflow as tf\n",
        "from tensorflow import keras\n",
        "from sklearn.model_selection import train_test_split\n",
        "from sklearn.preprocessing import StandardScaler, MinMaxScaler\n",
        "\n",
        "# 🔹 Dividimos en entrenamiento y prueba\n",
        "X_train, X_test, y_train, y_test = train_test_split(X_scaled, y_scaled, test_size=0.2, random_state=42)\n",
        "\n",
        "# 🔹 Creamos la red neuronal con 4 capas y activación sigmoide\n",
        "model = keras.Sequential([\n",
        "    keras.layers.Dense(64, activation='relu', input_shape=(X_train.shape[1],)),  # Capa 1\n",
        "    keras.layers.Dense(32, activation='relu'),  # Capa 2\n",
        "    keras.layers.Dense(16, activation='relu'),  # Capa 3\n",
        "    keras.layers.Dense(1, activation='linear')    # Capa de salida (para valores entre 0 y 1)\n",
        "])\n",
        "\n",
        "# 🔹 Compilamos el modelo\n",
        "model.compile(optimizer='adam', loss='mse', metrics=['mae'])\n",
        "\n",
        "# 🔹 Entrenamos el modelo\n",
        "history = model.fit(X_train, y_train, epochs=25, batch_size=32, validation_data=(X_test, y_test), verbose=1)\n",
        "\n",
        "# 🔹 Hacemos predicciones y desnormalizamos\n",
        "y_pred_scaled = model.predict(X_test)\n",
        "y_pred = scaler_y.inverse_transform(y_pred_scaled)  # Volver a temperatura real\n",
        "\n",
        "# 🔹 Mostrar una predicción real\n",
        "print(f\"Predicción escalada: {y_pred_scaled[0][0]:.4f}, Desnormalizada: {y_pred[0][0]:.2f}\")\n"
      ]
    },
    {
      "cell_type": "code",
      "execution_count": 43,
      "metadata": {
        "colab": {
          "base_uri": "https://localhost:8080/"
        },
        "id": "6nq7ZHGjZyPS",
        "outputId": "74e5b804-6c73-406d-de23-b0b641f90256"
      },
      "outputs": [
        {
          "data": {
            "text/plain": [
              "Index(['TMAX', 'TMIN', 'TMED', 'Lluvia', 'Nieve', 'Granizo', 'Tormenta',\n",
              "       'Niebla', 'Rocio', 'Escarcha', 'Otros', 'target_t_max', 'dia_sen',\n",
              "       'dia_cos', 'mes_sen', 'mes_cos', 't_max_lag1', 't_max_lag2',\n",
              "       't_max_rolling3', 'dif_t_ayer'],\n",
              "      dtype='object')"
            ]
          },
          "execution_count": 43,
          "metadata": {},
          "output_type": "execute_result"
        }
      ],
      "source": [
        "df.columns"
      ]
    },
    {
      "cell_type": "code",
      "execution_count": 44,
      "metadata": {
        "id": "4oW6PJFZEOYT"
      },
      "outputs": [],
      "source": [
        "# Creamos una funcion para introducirle los valores sencillos y hacer los calculos complejos.\n",
        "\n",
        "def generate_new_raw_data(temp_maxima, temp_min, mes, dia_mes, temp_3er_dia_anterior, temp_2o_dia_anterior, temp_max_ayer, temp_min_ayer, **kwargs):\n",
        "\n",
        "  lista = [temp_maxima, temp_min]\n",
        "  estados = {'Lluvia': 0, 'Nieve': 0, 'Granizo':0, 'Tormenta':0,\n",
        "       'Niebla': 0, 'Rocio': 0, 'Escarcha': 0, 'Otros': 0}\n",
        "\n",
        "  # Generamos los valores calculados\n",
        "  # Media de temperatura\n",
        "  temp_media = temp_maxima / temp_min\n",
        "  lista.append(temp_media)\n",
        "\n",
        "  # Actualizamos los valores de la lista de estados\n",
        "  for estado in estados:\n",
        "    if estado in kwargs:\n",
        "      estados[estado] = 1\n",
        "      lista.append(1)\n",
        "      print(f\"Actualizado el estado {estado} a valor 1\")\n",
        "    else:\n",
        "      lista.append(0)\n",
        "      print(\"No se ha encontrado ningun estado coindidente como parametro.\")\n",
        "\n",
        "  # calculamos los cosenos del dia\n",
        "  seno_dia = np.sin(2 * np.pi * dia_mes / 365)\n",
        "  lista.append(seno_dia)\n",
        "  coseno_dia = np.cos(2 * np.pi * dia_mes / 365)\n",
        "  lista.append(coseno_dia)\n",
        "\n",
        "  # Calculamos el seno y coseno del mes del anyo\n",
        "  seno_mes = np.sin(2 * np.pi * mes / 12)\n",
        "  lista.append(seno_mes)\n",
        "  coseno_mes = np.cos(2 * np.pi * mes / 12)\n",
        "  lista.append(coseno_mes)\n",
        "\n",
        "  # Introducimos a la lista tambien las temperaturas maximas de los ultimos 2 dias\n",
        "  lista.append(temp_max_ayer)\n",
        "  lista.append(temp_2o_dia_anterior)\n",
        "\n",
        "  # Calculamos la ventana de de temperatura maxima de los ultimos 3 dias\n",
        "  media_max_ultimos_3_dias = (temp_3er_dia_anterior + temp_2o_dia_anterior + temp_max_ayer) / 3\n",
        "  lista.append(media_max_ultimos_3_dias)\n",
        "\n",
        "  # Calculamos la diferencia entre la maxima y la minima de ayer\n",
        "  dif_t_lag = temp_max_ayer - temp_min_ayer\n",
        "  lista.append(dif_t_lag)\n",
        "\n",
        "  print(f\"longitud lista {len(lista)}\")\n",
        "  return lista"
      ]
    },
    {
      "cell_type": "markdown",
      "metadata": {
        "id": "T6abee1DU5aw"
      },
      "source": [
        "# Inferencias al modelo"
      ]
    },
    {
      "cell_type": "code",
      "execution_count": 45,
      "metadata": {
        "id": "eYcfeKx1vuuN"
      },
      "outputs": [
        {
          "name": "stdout",
          "output_type": "stream",
          "text": [
            "No se ha encontrado ningun estado coindidente como parametro.\n",
            "No se ha encontrado ningun estado coindidente como parametro.\n",
            "No se ha encontrado ningun estado coindidente como parametro.\n",
            "No se ha encontrado ningun estado coindidente como parametro.\n",
            "No se ha encontrado ningun estado coindidente como parametro.\n",
            "No se ha encontrado ningun estado coindidente como parametro.\n",
            "No se ha encontrado ningun estado coindidente como parametro.\n",
            "No se ha encontrado ningun estado coindidente como parametro.\n",
            "longitud lista 19\n",
            "[-0.18959453 -0.39014941 -3.05484242 -0.46445321 -0.01549379 -0.05374308\n",
            " -0.15424963 -0.09803827 -0.37074167 -0.04609234  0.          0.29776655\n",
            "  1.37699726  1.4284253  -0.00544721 -0.11311015 -0.18958398 -0.17670481\n",
            "  0.58924336]\n",
            "\u001b[1m1/1\u001b[0m \u001b[32m━━━━━━━━━━━━━━━━━━━━\u001b[0m\u001b[37m\u001b[0m \u001b[1m0s\u001b[0m 23ms/step\n",
            "Temperatura predicha: 217.35 °C\n"
          ]
        },
        {
          "name": "stderr",
          "output_type": "stream",
          "text": [
            "c:\\Users\\danie\\Documents\\prediccion_temperaturas\\env\\Lib\\site-packages\\sklearn\\utils\\validation.py:2749: UserWarning: X does not have valid feature names, but StandardScaler was fitted with feature names\n",
            "  warnings.warn(\n"
          ]
        }
      ],
      "source": [
        "# 🔹 Ejemplo: Nuevos datos (5 características)\n",
        "X_nuevo = np.array([generate_new_raw_data(221.0, 118, 3, 12, 220, 221, 226, 114, lluvia = 1)])  # Datos de prueba\n",
        "\n",
        "# 🔹 Normalizar con el mismo escalador usado en el entrenamiento\n",
        "X_nuevo_scaled = scaler_X.transform(X_nuevo)\n",
        "\n",
        "print(X_nuevo_scaled[0])\n",
        "\n",
        "# 🔹 Hacer la predicción\n",
        "y_pred_scaled = model.predict(X_nuevo_scaled)\n",
        "\n",
        "# 🔹 Desnormalizar la predicción para obtener la temperatura real\n",
        "y_pred = scaler_y.inverse_transform(y_pred_scaled)\n",
        "\n",
        "print(f\"Temperatura predicha: {y_pred[0][0]:.2f} °C\")\n"
      ]
    },
    {
      "cell_type": "markdown",
      "metadata": {
        "id": "r1-rsvZDUeX-"
      },
      "source": [
        "\n",
        "## Podemos comprobar en la pagina de la Aemet que nuestro modelo ha predicho 18.1 grados y tenemos maximas de 19 con lo que no se ha desviado mucho\n",
        "\n",
        "\n",
        "![imagen.png](data:image/png;base64,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)"
      ]
    },
    {
      "cell_type": "code",
      "execution_count": null,
      "metadata": {
        "colab": {
          "base_uri": "https://localhost:8080/"
        },
        "id": "Nef32I0jzR_c",
        "outputId": "21181f5e-d24b-493b-f4bd-0c8edd3ca867"
      },
      "outputs": [
        {
          "name": "stderr",
          "output_type": "stream",
          "text": [
            "WARNING:absl:You are saving your model as an HDF5 file via `model.save()` or `keras.saving.save_model(model)`. This file format is considered legacy. We recommend using instead the native Keras format, e.g. `model.save('my_model.keras')` or `keras.saving.save_model(model, 'my_model.keras')`. \n"
          ]
        }
      ],
      "source": [
        "model.save(\"modelo_temperatura_media.h5\")  # Guarda en formato HDF5 (.h5)\n"
      ]
    },
    {
      "cell_type": "code",
      "execution_count": null,
      "metadata": {
        "colab": {
          "base_uri": "https://localhost:8080/"
        },
        "id": "bsH4-1Wq6r2c",
        "outputId": "53b720a1-6d38-4480-f354-3dad2146ed87"
      },
      "outputs": [
        {
          "data": {
            "text/plain": [
              "['scaler_y_media.pkl']"
            ]
          },
          "execution_count": 55,
          "metadata": {},
          "output_type": "execute_result"
        }
      ],
      "source": [
        "import joblib\n",
        "\n",
        "joblib.dump(scaler_X, \"scaler_X_media.pkl\")  # Guardar el escalador de entrada\n",
        "joblib.dump(scaler_y, \"scaler_y_media.pkl\")  # Guardar el escalador de salida\n"
      ]
    },
    {
      "cell_type": "markdown",
      "metadata": {
        "id": "9thUkmLfgrg4"
      },
      "source": [
        "# Practica con capas LSTM\n"
      ]
    },
    {
      "cell_type": "code",
      "execution_count": 47,
      "metadata": {
        "colab": {
          "base_uri": "https://localhost:8080/",
          "height": 968
        },
        "id": "yzHdtLfnFTKY",
        "outputId": "8e6e5ce4-e415-4262-e7ab-0709e60bad38"
      },
      "outputs": [
        {
          "name": "stdout",
          "output_type": "stream",
          "text": [
            "Epoch 1/20\n"
          ]
        },
        {
          "name": "stderr",
          "output_type": "stream",
          "text": [
            "c:\\Users\\danie\\Documents\\prediccion_temperaturas\\env\\Lib\\site-packages\\keras\\src\\layers\\rnn\\rnn.py:199: UserWarning: Do not pass an `input_shape`/`input_dim` argument to a layer. When using Sequential models, prefer using an `Input(shape)` object as the first layer in the model instead.\n",
            "  super().__init__(**kwargs)\n"
          ]
        },
        {
          "name": "stdout",
          "output_type": "stream",
          "text": [
            "\u001b[1m1250/1250\u001b[0m \u001b[32m━━━━━━━━━━━━━━━━━━━━\u001b[0m\u001b[37m\u001b[0m \u001b[1m9s\u001b[0m 6ms/step - loss: 0.4207 - val_loss: 0.2392\n",
            "Epoch 2/20\n",
            "\u001b[1m1250/1250\u001b[0m \u001b[32m━━━━━━━━━━━━━━━━━━━━\u001b[0m\u001b[37m\u001b[0m \u001b[1m7s\u001b[0m 6ms/step - loss: 0.2393 - val_loss: 0.2147\n",
            "Epoch 3/20\n",
            "\u001b[1m1250/1250\u001b[0m \u001b[32m━━━━━━━━━━━━━━━━━━━━\u001b[0m\u001b[37m\u001b[0m \u001b[1m7s\u001b[0m 6ms/step - loss: 0.2282 - val_loss: 0.2135\n",
            "Epoch 4/20\n",
            "\u001b[1m1250/1250\u001b[0m \u001b[32m━━━━━━━━━━━━━━━━━━━━\u001b[0m\u001b[37m\u001b[0m \u001b[1m7s\u001b[0m 6ms/step - loss: 0.2224 - val_loss: 0.2087\n",
            "Epoch 5/20\n",
            "\u001b[1m1250/1250\u001b[0m \u001b[32m━━━━━━━━━━━━━━━━━━━━\u001b[0m\u001b[37m\u001b[0m \u001b[1m8s\u001b[0m 7ms/step - loss: 0.2197 - val_loss: 0.1998\n",
            "Epoch 6/20\n",
            "\u001b[1m1250/1250\u001b[0m \u001b[32m━━━━━━━━━━━━━━━━━━━━\u001b[0m\u001b[37m\u001b[0m \u001b[1m8s\u001b[0m 6ms/step - loss: 0.2180 - val_loss: 0.2202\n",
            "Epoch 7/20\n",
            "\u001b[1m1250/1250\u001b[0m \u001b[32m━━━━━━━━━━━━━━━━━━━━\u001b[0m\u001b[37m\u001b[0m \u001b[1m8s\u001b[0m 6ms/step - loss: 0.2169 - val_loss: 0.2022\n",
            "Epoch 8/20\n",
            "\u001b[1m1250/1250\u001b[0m \u001b[32m━━━━━━━━━━━━━━━━━━━━\u001b[0m\u001b[37m\u001b[0m \u001b[1m8s\u001b[0m 7ms/step - loss: 0.2160 - val_loss: 0.1984\n",
            "Epoch 9/20\n",
            "\u001b[1m1250/1250\u001b[0m \u001b[32m━━━━━━━━━━━━━━━━━━━━\u001b[0m\u001b[37m\u001b[0m \u001b[1m8s\u001b[0m 7ms/step - loss: 0.2195 - val_loss: 0.1980\n",
            "Epoch 10/20\n",
            "\u001b[1m1250/1250\u001b[0m \u001b[32m━━━━━━━━━━━━━━━━━━━━\u001b[0m\u001b[37m\u001b[0m \u001b[1m8s\u001b[0m 6ms/step - loss: 0.2148 - val_loss: 0.2129\n",
            "Epoch 11/20\n",
            "\u001b[1m1250/1250\u001b[0m \u001b[32m━━━━━━━━━━━━━━━━━━━━\u001b[0m\u001b[37m\u001b[0m \u001b[1m9s\u001b[0m 7ms/step - loss: 0.2129 - val_loss: 0.2005\n",
            "Epoch 12/20\n",
            "\u001b[1m1250/1250\u001b[0m \u001b[32m━━━━━━━━━━━━━━━━━━━━\u001b[0m\u001b[37m\u001b[0m \u001b[1m9s\u001b[0m 7ms/step - loss: 0.2123 - val_loss: 0.1985\n",
            "Epoch 13/20\n",
            "\u001b[1m1250/1250\u001b[0m \u001b[32m━━━━━━━━━━━━━━━━━━━━\u001b[0m\u001b[37m\u001b[0m \u001b[1m9s\u001b[0m 7ms/step - loss: 0.2111 - val_loss: 0.1969\n",
            "Epoch 14/20\n",
            "\u001b[1m1250/1250\u001b[0m \u001b[32m━━━━━━━━━━━━━━━━━━━━\u001b[0m\u001b[37m\u001b[0m \u001b[1m8s\u001b[0m 7ms/step - loss: 0.2107 - val_loss: 0.1973\n",
            "Epoch 15/20\n",
            "\u001b[1m1250/1250\u001b[0m \u001b[32m━━━━━━━━━━━━━━━━━━━━\u001b[0m\u001b[37m\u001b[0m \u001b[1m9s\u001b[0m 7ms/step - loss: 0.2091 - val_loss: 0.1974\n",
            "Epoch 16/20\n",
            "\u001b[1m1250/1250\u001b[0m \u001b[32m━━━━━━━━━━━━━━━━━━━━\u001b[0m\u001b[37m\u001b[0m \u001b[1m9s\u001b[0m 7ms/step - loss: 0.2095 - val_loss: 0.1954\n",
            "Epoch 17/20\n",
            "\u001b[1m1250/1250\u001b[0m \u001b[32m━━━━━━━━━━━━━━━━━━━━\u001b[0m\u001b[37m\u001b[0m \u001b[1m9s\u001b[0m 7ms/step - loss: 0.2091 - val_loss: 0.2053\n",
            "Epoch 18/20\n",
            "\u001b[1m1250/1250\u001b[0m \u001b[32m━━━━━━━━━━━━━━━━━━━━\u001b[0m\u001b[37m\u001b[0m \u001b[1m9s\u001b[0m 7ms/step - loss: 0.2074 - val_loss: 0.1998\n",
            "Epoch 19/20\n",
            "\u001b[1m1250/1250\u001b[0m \u001b[32m━━━━━━━━━━━━━━━━━━━━\u001b[0m\u001b[37m\u001b[0m \u001b[1m8s\u001b[0m 7ms/step - loss: 0.2068 - val_loss: 0.2003\n",
            "Epoch 20/20\n",
            "\u001b[1m1250/1250\u001b[0m \u001b[32m━━━━━━━━━━━━━━━━━━━━\u001b[0m\u001b[37m\u001b[0m \u001b[1m8s\u001b[0m 7ms/step - loss: 0.2076 - val_loss: 0.1984\n"
          ]
        },
        {
          "data": {
            "text/plain": [
              "<keras.src.callbacks.history.History at 0x2686a45e850>"
            ]
          },
          "execution_count": 47,
          "metadata": {},
          "output_type": "execute_result"
        }
      ],
      "source": [
        "import numpy as np\n",
        "import pandas as pd\n",
        "import tensorflow as tf\n",
        "from tensorflow.keras.models import Sequential\n",
        "from tensorflow.keras.layers import LSTM, Dense\n",
        "from sklearn.preprocessing import MinMaxScaler\n",
        "import matplotlib.pyplot as plt\n",
        "\n",
        "# 📌 5. Construcción del modelo LSTM\n",
        "model_lstm = Sequential([\n",
        "    LSTM(50, activation=\"relu\", return_sequences=True, input_shape=(21, 1)),\n",
        "    LSTM(50, activation=\"relu\"),\n",
        "    Dense(1)\n",
        "])\n",
        "\n",
        "model_lstm.compile(optimizer=\"adam\", loss=\"mse\")\n",
        "\n",
        "# 📌 6. Entrenamiento del modelo\n",
        "model_lstm.fit(X_train, y_train, epochs=20, batch_size=16, validation_data=(X_test, y_test))\n"
      ]
    },
    {
      "cell_type": "code",
      "execution_count": null,
      "metadata": {
        "id": "M5v1i--qXqpc"
      },
      "outputs": [],
      "source": [
        "predictions = scaler_y.inverse_transform(predictions)  # Desnormalizar"
      ]
    },
    {
      "cell_type": "code",
      "execution_count": 48,
      "metadata": {
        "colab": {
          "base_uri": "https://localhost:8080/"
        },
        "id": "qVDRpYaaXA4g",
        "outputId": "4d137f82-b840-4810-f285-dab9270816ee"
      },
      "outputs": [
        {
          "name": "stdout",
          "output_type": "stream",
          "text": [
            "No se ha encontrado ningun estado coindidente como parametro.\n",
            "No se ha encontrado ningun estado coindidente como parametro.\n",
            "No se ha encontrado ningun estado coindidente como parametro.\n",
            "No se ha encontrado ningun estado coindidente como parametro.\n",
            "No se ha encontrado ningun estado coindidente como parametro.\n",
            "No se ha encontrado ningun estado coindidente como parametro.\n",
            "No se ha encontrado ningun estado coindidente como parametro.\n",
            "No se ha encontrado ningun estado coindidente como parametro.\n",
            "longitud lista 19\n",
            "[-0.18959453 -0.39014941 -3.05484242 -0.46445321 -0.01549379 -0.05374308\n",
            " -0.15424963 -0.09803827 -0.37074167 -0.04609234  0.          0.29776655\n",
            "  1.37699726  1.4284253  -0.00544721 -0.11311015 -0.18958398 -0.17670481\n",
            "  0.58924336]\n",
            "\u001b[1m1/1\u001b[0m \u001b[32m━━━━━━━━━━━━━━━━━━━━\u001b[0m\u001b[37m\u001b[0m \u001b[1m0s\u001b[0m 175ms/step"
          ]
        },
        {
          "name": "stderr",
          "output_type": "stream",
          "text": [
            "c:\\Users\\danie\\Documents\\prediccion_temperaturas\\env\\Lib\\site-packages\\sklearn\\utils\\validation.py:2749: UserWarning: X does not have valid feature names, but StandardScaler was fitted with feature names\n",
            "  warnings.warn(\n"
          ]
        },
        {
          "name": "stdout",
          "output_type": "stream",
          "text": [
            "\u001b[1m1/1\u001b[0m \u001b[32m━━━━━━━━━━━━━━━━━━━━\u001b[0m\u001b[37m\u001b[0m \u001b[1m0s\u001b[0m 175ms/step\n",
            "Temperatura predicha: 188.49 °C\n"
          ]
        }
      ],
      "source": [
        "# 🔹 Ejemplo: Nuevos datos (5 características)\n",
        "X_nuevo = np.array([generate_new_raw_data(221.0, 118, 3, 12, 220, 221, 226, 114, lluvia = 1)])  # Datos de prueba\n",
        "\n",
        "# 🔹 Normalizar con el mismo escalador usado en el entrenamiento\n",
        "X_nuevo_scaled = scaler_X.transform(X_nuevo)\n",
        "\n",
        "print(X_nuevo_scaled[0])\n",
        "\n",
        "# 🔹 Hacer la predicción\n",
        "y_pred_scaled = model_lstm.predict(X_nuevo_scaled)\n",
        "\n",
        "# 🔹 Desnormalizar la predicción para obtener la temperatura real\n",
        "y_pred = scaler_y.inverse_transform(y_pred_scaled)\n",
        "\n",
        "print(f\"Temperatura predicha: {y_pred[0][0]:.2f} °C\")"
      ]
    },
    {
      "cell_type": "markdown",
      "metadata": {
        "id": "7q78xFUKFSHz"
      },
      "source": [
        "# Prueba con Machine Learning"
      ]
    },
    {
      "cell_type": "code",
      "execution_count": 49,
      "metadata": {
        "id": "AXLkLSk2FSnR"
      },
      "outputs": [],
      "source": [
        "import numpy as np\n",
        "import pandas as pd\n",
        "import matplotlib.pyplot as plt\n",
        "from sklearn.model_selection import train_test_split\n",
        "from sklearn.tree import DecisionTreeRegressor\n",
        "from sklearn.metrics import mean_absolute_error, r2_score\n",
        "from sklearn.model_selection import GridSearchCV\n",
        "from sklearn.tree import DecisionTreeRegressor\n"
      ]
    },
    {
      "cell_type": "code",
      "execution_count": 50,
      "metadata": {
        "colab": {
          "base_uri": "https://localhost:8080/"
        },
        "id": "OxoMZGWGYmXv",
        "outputId": "2f157ebe-1e28-4b62-d3ad-841a6e036850"
      },
      "outputs": [
        {
          "name": "stdout",
          "output_type": "stream",
          "text": [
            "Mejores hiperparámetros: {'ccp_alpha': 0.0, 'max_depth': 5, 'max_features': None, 'min_samples_leaf': 5, 'min_samples_split': 2}\n"
          ]
        }
      ],
      "source": [
        "# Definir hiperparámetros a probar\n",
        "param_grid = {\n",
        "    'max_depth': [3, 5, 10, None],\n",
        "    'min_samples_split': [2, 5, 10],\n",
        "    'min_samples_leaf': [1, 5, 10],\n",
        "    'max_features': [None, 'sqrt', 'log2', 0.5],\n",
        "    'ccp_alpha': [0.0, 0.01, 0.1]\n",
        "}\n",
        "\n",
        "# Modelo base\n",
        "modelo = DecisionTreeRegressor()\n",
        "\n",
        "# GridSearchCV para encontrar los mejores hiperparámetros\n",
        "grid_search = GridSearchCV(modelo, param_grid, cv=5, scoring='neg_mean_absolute_error')\n",
        "grid_search.fit(X_train, y_train)\n",
        "\n",
        "# Mostrar los mejores hiperparámetros\n",
        "print(\"Mejores hiperparámetros:\", grid_search.best_params_)\n"
      ]
    },
    {
      "cell_type": "code",
      "execution_count": 51,
      "metadata": {
        "colab": {
          "base_uri": "https://localhost:8080/",
          "height": 80
        },
        "id": "nVWEyrEvcX-G",
        "outputId": "76efc9ee-3dcb-462a-ebed-7fc1f9423a0e"
      },
      "outputs": [
        {
          "data": {
            "text/html": [
              "<style>#sk-container-id-1 {\n",
              "  /* Definition of color scheme common for light and dark mode */\n",
              "  --sklearn-color-text: #000;\n",
              "  --sklearn-color-text-muted: #666;\n",
              "  --sklearn-color-line: gray;\n",
              "  /* Definition of color scheme for unfitted estimators */\n",
              "  --sklearn-color-unfitted-level-0: #fff5e6;\n",
              "  --sklearn-color-unfitted-level-1: #f6e4d2;\n",
              "  --sklearn-color-unfitted-level-2: #ffe0b3;\n",
              "  --sklearn-color-unfitted-level-3: chocolate;\n",
              "  /* Definition of color scheme for fitted estimators */\n",
              "  --sklearn-color-fitted-level-0: #f0f8ff;\n",
              "  --sklearn-color-fitted-level-1: #d4ebff;\n",
              "  --sklearn-color-fitted-level-2: #b3dbfd;\n",
              "  --sklearn-color-fitted-level-3: cornflowerblue;\n",
              "\n",
              "  /* Specific color for light theme */\n",
              "  --sklearn-color-text-on-default-background: var(--sg-text-color, var(--theme-code-foreground, var(--jp-content-font-color1, black)));\n",
              "  --sklearn-color-background: var(--sg-background-color, var(--theme-background, var(--jp-layout-color0, white)));\n",
              "  --sklearn-color-border-box: var(--sg-text-color, var(--theme-code-foreground, var(--jp-content-font-color1, black)));\n",
              "  --sklearn-color-icon: #696969;\n",
              "\n",
              "  @media (prefers-color-scheme: dark) {\n",
              "    /* Redefinition of color scheme for dark theme */\n",
              "    --sklearn-color-text-on-default-background: var(--sg-text-color, var(--theme-code-foreground, var(--jp-content-font-color1, white)));\n",
              "    --sklearn-color-background: var(--sg-background-color, var(--theme-background, var(--jp-layout-color0, #111)));\n",
              "    --sklearn-color-border-box: var(--sg-text-color, var(--theme-code-foreground, var(--jp-content-font-color1, white)));\n",
              "    --sklearn-color-icon: #878787;\n",
              "  }\n",
              "}\n",
              "\n",
              "#sk-container-id-1 {\n",
              "  color: var(--sklearn-color-text);\n",
              "}\n",
              "\n",
              "#sk-container-id-1 pre {\n",
              "  padding: 0;\n",
              "}\n",
              "\n",
              "#sk-container-id-1 input.sk-hidden--visually {\n",
              "  border: 0;\n",
              "  clip: rect(1px 1px 1px 1px);\n",
              "  clip: rect(1px, 1px, 1px, 1px);\n",
              "  height: 1px;\n",
              "  margin: -1px;\n",
              "  overflow: hidden;\n",
              "  padding: 0;\n",
              "  position: absolute;\n",
              "  width: 1px;\n",
              "}\n",
              "\n",
              "#sk-container-id-1 div.sk-dashed-wrapped {\n",
              "  border: 1px dashed var(--sklearn-color-line);\n",
              "  margin: 0 0.4em 0.5em 0.4em;\n",
              "  box-sizing: border-box;\n",
              "  padding-bottom: 0.4em;\n",
              "  background-color: var(--sklearn-color-background);\n",
              "}\n",
              "\n",
              "#sk-container-id-1 div.sk-container {\n",
              "  /* jupyter's `normalize.less` sets `[hidden] { display: none; }`\n",
              "     but bootstrap.min.css set `[hidden] { display: none !important; }`\n",
              "     so we also need the `!important` here to be able to override the\n",
              "     default hidden behavior on the sphinx rendered scikit-learn.org.\n",
              "     See: https://github.com/scikit-learn/scikit-learn/issues/21755 */\n",
              "  display: inline-block !important;\n",
              "  position: relative;\n",
              "}\n",
              "\n",
              "#sk-container-id-1 div.sk-text-repr-fallback {\n",
              "  display: none;\n",
              "}\n",
              "\n",
              "div.sk-parallel-item,\n",
              "div.sk-serial,\n",
              "div.sk-item {\n",
              "  /* draw centered vertical line to link estimators */\n",
              "  background-image: linear-gradient(var(--sklearn-color-text-on-default-background), var(--sklearn-color-text-on-default-background));\n",
              "  background-size: 2px 100%;\n",
              "  background-repeat: no-repeat;\n",
              "  background-position: center center;\n",
              "}\n",
              "\n",
              "/* Parallel-specific style estimator block */\n",
              "\n",
              "#sk-container-id-1 div.sk-parallel-item::after {\n",
              "  content: \"\";\n",
              "  width: 100%;\n",
              "  border-bottom: 2px solid var(--sklearn-color-text-on-default-background);\n",
              "  flex-grow: 1;\n",
              "}\n",
              "\n",
              "#sk-container-id-1 div.sk-parallel {\n",
              "  display: flex;\n",
              "  align-items: stretch;\n",
              "  justify-content: center;\n",
              "  background-color: var(--sklearn-color-background);\n",
              "  position: relative;\n",
              "}\n",
              "\n",
              "#sk-container-id-1 div.sk-parallel-item {\n",
              "  display: flex;\n",
              "  flex-direction: column;\n",
              "}\n",
              "\n",
              "#sk-container-id-1 div.sk-parallel-item:first-child::after {\n",
              "  align-self: flex-end;\n",
              "  width: 50%;\n",
              "}\n",
              "\n",
              "#sk-container-id-1 div.sk-parallel-item:last-child::after {\n",
              "  align-self: flex-start;\n",
              "  width: 50%;\n",
              "}\n",
              "\n",
              "#sk-container-id-1 div.sk-parallel-item:only-child::after {\n",
              "  width: 0;\n",
              "}\n",
              "\n",
              "/* Serial-specific style estimator block */\n",
              "\n",
              "#sk-container-id-1 div.sk-serial {\n",
              "  display: flex;\n",
              "  flex-direction: column;\n",
              "  align-items: center;\n",
              "  background-color: var(--sklearn-color-background);\n",
              "  padding-right: 1em;\n",
              "  padding-left: 1em;\n",
              "}\n",
              "\n",
              "\n",
              "/* Toggleable style: style used for estimator/Pipeline/ColumnTransformer box that is\n",
              "clickable and can be expanded/collapsed.\n",
              "- Pipeline and ColumnTransformer use this feature and define the default style\n",
              "- Estimators will overwrite some part of the style using the `sk-estimator` class\n",
              "*/\n",
              "\n",
              "/* Pipeline and ColumnTransformer style (default) */\n",
              "\n",
              "#sk-container-id-1 div.sk-toggleable {\n",
              "  /* Default theme specific background. It is overwritten whether we have a\n",
              "  specific estimator or a Pipeline/ColumnTransformer */\n",
              "  background-color: var(--sklearn-color-background);\n",
              "}\n",
              "\n",
              "/* Toggleable label */\n",
              "#sk-container-id-1 label.sk-toggleable__label {\n",
              "  cursor: pointer;\n",
              "  display: flex;\n",
              "  width: 100%;\n",
              "  margin-bottom: 0;\n",
              "  padding: 0.5em;\n",
              "  box-sizing: border-box;\n",
              "  text-align: center;\n",
              "  align-items: start;\n",
              "  justify-content: space-between;\n",
              "  gap: 0.5em;\n",
              "}\n",
              "\n",
              "#sk-container-id-1 label.sk-toggleable__label .caption {\n",
              "  font-size: 0.6rem;\n",
              "  font-weight: lighter;\n",
              "  color: var(--sklearn-color-text-muted);\n",
              "}\n",
              "\n",
              "#sk-container-id-1 label.sk-toggleable__label-arrow:before {\n",
              "  /* Arrow on the left of the label */\n",
              "  content: \"▸\";\n",
              "  float: left;\n",
              "  margin-right: 0.25em;\n",
              "  color: var(--sklearn-color-icon);\n",
              "}\n",
              "\n",
              "#sk-container-id-1 label.sk-toggleable__label-arrow:hover:before {\n",
              "  color: var(--sklearn-color-text);\n",
              "}\n",
              "\n",
              "/* Toggleable content - dropdown */\n",
              "\n",
              "#sk-container-id-1 div.sk-toggleable__content {\n",
              "  display: none;\n",
              "  text-align: left;\n",
              "  /* unfitted */\n",
              "  background-color: var(--sklearn-color-unfitted-level-0);\n",
              "}\n",
              "\n",
              "#sk-container-id-1 div.sk-toggleable__content.fitted {\n",
              "  /* fitted */\n",
              "  background-color: var(--sklearn-color-fitted-level-0);\n",
              "}\n",
              "\n",
              "#sk-container-id-1 div.sk-toggleable__content pre {\n",
              "  margin: 0.2em;\n",
              "  border-radius: 0.25em;\n",
              "  color: var(--sklearn-color-text);\n",
              "  /* unfitted */\n",
              "  background-color: var(--sklearn-color-unfitted-level-0);\n",
              "}\n",
              "\n",
              "#sk-container-id-1 div.sk-toggleable__content.fitted pre {\n",
              "  /* unfitted */\n",
              "  background-color: var(--sklearn-color-fitted-level-0);\n",
              "}\n",
              "\n",
              "#sk-container-id-1 input.sk-toggleable__control:checked~div.sk-toggleable__content {\n",
              "  /* Expand drop-down */\n",
              "  display: block;\n",
              "  width: 100%;\n",
              "  overflow: visible;\n",
              "}\n",
              "\n",
              "#sk-container-id-1 input.sk-toggleable__control:checked~label.sk-toggleable__label-arrow:before {\n",
              "  content: \"▾\";\n",
              "}\n",
              "\n",
              "/* Pipeline/ColumnTransformer-specific style */\n",
              "\n",
              "#sk-container-id-1 div.sk-label input.sk-toggleable__control:checked~label.sk-toggleable__label {\n",
              "  color: var(--sklearn-color-text);\n",
              "  background-color: var(--sklearn-color-unfitted-level-2);\n",
              "}\n",
              "\n",
              "#sk-container-id-1 div.sk-label.fitted input.sk-toggleable__control:checked~label.sk-toggleable__label {\n",
              "  background-color: var(--sklearn-color-fitted-level-2);\n",
              "}\n",
              "\n",
              "/* Estimator-specific style */\n",
              "\n",
              "/* Colorize estimator box */\n",
              "#sk-container-id-1 div.sk-estimator input.sk-toggleable__control:checked~label.sk-toggleable__label {\n",
              "  /* unfitted */\n",
              "  background-color: var(--sklearn-color-unfitted-level-2);\n",
              "}\n",
              "\n",
              "#sk-container-id-1 div.sk-estimator.fitted input.sk-toggleable__control:checked~label.sk-toggleable__label {\n",
              "  /* fitted */\n",
              "  background-color: var(--sklearn-color-fitted-level-2);\n",
              "}\n",
              "\n",
              "#sk-container-id-1 div.sk-label label.sk-toggleable__label,\n",
              "#sk-container-id-1 div.sk-label label {\n",
              "  /* The background is the default theme color */\n",
              "  color: var(--sklearn-color-text-on-default-background);\n",
              "}\n",
              "\n",
              "/* On hover, darken the color of the background */\n",
              "#sk-container-id-1 div.sk-label:hover label.sk-toggleable__label {\n",
              "  color: var(--sklearn-color-text);\n",
              "  background-color: var(--sklearn-color-unfitted-level-2);\n",
              "}\n",
              "\n",
              "/* Label box, darken color on hover, fitted */\n",
              "#sk-container-id-1 div.sk-label.fitted:hover label.sk-toggleable__label.fitted {\n",
              "  color: var(--sklearn-color-text);\n",
              "  background-color: var(--sklearn-color-fitted-level-2);\n",
              "}\n",
              "\n",
              "/* Estimator label */\n",
              "\n",
              "#sk-container-id-1 div.sk-label label {\n",
              "  font-family: monospace;\n",
              "  font-weight: bold;\n",
              "  display: inline-block;\n",
              "  line-height: 1.2em;\n",
              "}\n",
              "\n",
              "#sk-container-id-1 div.sk-label-container {\n",
              "  text-align: center;\n",
              "}\n",
              "\n",
              "/* Estimator-specific */\n",
              "#sk-container-id-1 div.sk-estimator {\n",
              "  font-family: monospace;\n",
              "  border: 1px dotted var(--sklearn-color-border-box);\n",
              "  border-radius: 0.25em;\n",
              "  box-sizing: border-box;\n",
              "  margin-bottom: 0.5em;\n",
              "  /* unfitted */\n",
              "  background-color: var(--sklearn-color-unfitted-level-0);\n",
              "}\n",
              "\n",
              "#sk-container-id-1 div.sk-estimator.fitted {\n",
              "  /* fitted */\n",
              "  background-color: var(--sklearn-color-fitted-level-0);\n",
              "}\n",
              "\n",
              "/* on hover */\n",
              "#sk-container-id-1 div.sk-estimator:hover {\n",
              "  /* unfitted */\n",
              "  background-color: var(--sklearn-color-unfitted-level-2);\n",
              "}\n",
              "\n",
              "#sk-container-id-1 div.sk-estimator.fitted:hover {\n",
              "  /* fitted */\n",
              "  background-color: var(--sklearn-color-fitted-level-2);\n",
              "}\n",
              "\n",
              "/* Specification for estimator info (e.g. \"i\" and \"?\") */\n",
              "\n",
              "/* Common style for \"i\" and \"?\" */\n",
              "\n",
              ".sk-estimator-doc-link,\n",
              "a:link.sk-estimator-doc-link,\n",
              "a:visited.sk-estimator-doc-link {\n",
              "  float: right;\n",
              "  font-size: smaller;\n",
              "  line-height: 1em;\n",
              "  font-family: monospace;\n",
              "  background-color: var(--sklearn-color-background);\n",
              "  border-radius: 1em;\n",
              "  height: 1em;\n",
              "  width: 1em;\n",
              "  text-decoration: none !important;\n",
              "  margin-left: 0.5em;\n",
              "  text-align: center;\n",
              "  /* unfitted */\n",
              "  border: var(--sklearn-color-unfitted-level-1) 1pt solid;\n",
              "  color: var(--sklearn-color-unfitted-level-1);\n",
              "}\n",
              "\n",
              ".sk-estimator-doc-link.fitted,\n",
              "a:link.sk-estimator-doc-link.fitted,\n",
              "a:visited.sk-estimator-doc-link.fitted {\n",
              "  /* fitted */\n",
              "  border: var(--sklearn-color-fitted-level-1) 1pt solid;\n",
              "  color: var(--sklearn-color-fitted-level-1);\n",
              "}\n",
              "\n",
              "/* On hover */\n",
              "div.sk-estimator:hover .sk-estimator-doc-link:hover,\n",
              ".sk-estimator-doc-link:hover,\n",
              "div.sk-label-container:hover .sk-estimator-doc-link:hover,\n",
              ".sk-estimator-doc-link:hover {\n",
              "  /* unfitted */\n",
              "  background-color: var(--sklearn-color-unfitted-level-3);\n",
              "  color: var(--sklearn-color-background);\n",
              "  text-decoration: none;\n",
              "}\n",
              "\n",
              "div.sk-estimator.fitted:hover .sk-estimator-doc-link.fitted:hover,\n",
              ".sk-estimator-doc-link.fitted:hover,\n",
              "div.sk-label-container:hover .sk-estimator-doc-link.fitted:hover,\n",
              ".sk-estimator-doc-link.fitted:hover {\n",
              "  /* fitted */\n",
              "  background-color: var(--sklearn-color-fitted-level-3);\n",
              "  color: var(--sklearn-color-background);\n",
              "  text-decoration: none;\n",
              "}\n",
              "\n",
              "/* Span, style for the box shown on hovering the info icon */\n",
              ".sk-estimator-doc-link span {\n",
              "  display: none;\n",
              "  z-index: 9999;\n",
              "  position: relative;\n",
              "  font-weight: normal;\n",
              "  right: .2ex;\n",
              "  padding: .5ex;\n",
              "  margin: .5ex;\n",
              "  width: min-content;\n",
              "  min-width: 20ex;\n",
              "  max-width: 50ex;\n",
              "  color: var(--sklearn-color-text);\n",
              "  box-shadow: 2pt 2pt 4pt #999;\n",
              "  /* unfitted */\n",
              "  background: var(--sklearn-color-unfitted-level-0);\n",
              "  border: .5pt solid var(--sklearn-color-unfitted-level-3);\n",
              "}\n",
              "\n",
              ".sk-estimator-doc-link.fitted span {\n",
              "  /* fitted */\n",
              "  background: var(--sklearn-color-fitted-level-0);\n",
              "  border: var(--sklearn-color-fitted-level-3);\n",
              "}\n",
              "\n",
              ".sk-estimator-doc-link:hover span {\n",
              "  display: block;\n",
              "}\n",
              "\n",
              "/* \"?\"-specific style due to the `<a>` HTML tag */\n",
              "\n",
              "#sk-container-id-1 a.estimator_doc_link {\n",
              "  float: right;\n",
              "  font-size: 1rem;\n",
              "  line-height: 1em;\n",
              "  font-family: monospace;\n",
              "  background-color: var(--sklearn-color-background);\n",
              "  border-radius: 1rem;\n",
              "  height: 1rem;\n",
              "  width: 1rem;\n",
              "  text-decoration: none;\n",
              "  /* unfitted */\n",
              "  color: var(--sklearn-color-unfitted-level-1);\n",
              "  border: var(--sklearn-color-unfitted-level-1) 1pt solid;\n",
              "}\n",
              "\n",
              "#sk-container-id-1 a.estimator_doc_link.fitted {\n",
              "  /* fitted */\n",
              "  border: var(--sklearn-color-fitted-level-1) 1pt solid;\n",
              "  color: var(--sklearn-color-fitted-level-1);\n",
              "}\n",
              "\n",
              "/* On hover */\n",
              "#sk-container-id-1 a.estimator_doc_link:hover {\n",
              "  /* unfitted */\n",
              "  background-color: var(--sklearn-color-unfitted-level-3);\n",
              "  color: var(--sklearn-color-background);\n",
              "  text-decoration: none;\n",
              "}\n",
              "\n",
              "#sk-container-id-1 a.estimator_doc_link.fitted:hover {\n",
              "  /* fitted */\n",
              "  background-color: var(--sklearn-color-fitted-level-3);\n",
              "}\n",
              "\n",
              ".estimator-table summary {\n",
              "    padding: .5rem;\n",
              "    font-family: monospace;\n",
              "    cursor: pointer;\n",
              "}\n",
              "\n",
              ".estimator-table details[open] {\n",
              "    padding-left: 0.1rem;\n",
              "    padding-right: 0.1rem;\n",
              "    padding-bottom: 0.3rem;\n",
              "}\n",
              "\n",
              ".estimator-table .parameters-table {\n",
              "    margin-left: auto !important;\n",
              "    margin-right: auto !important;\n",
              "}\n",
              "\n",
              ".estimator-table .parameters-table tr:nth-child(odd) {\n",
              "    background-color: #fff;\n",
              "}\n",
              "\n",
              ".estimator-table .parameters-table tr:nth-child(even) {\n",
              "    background-color: #f6f6f6;\n",
              "}\n",
              "\n",
              ".estimator-table .parameters-table tr:hover {\n",
              "    background-color: #e0e0e0;\n",
              "}\n",
              "\n",
              ".estimator-table table td {\n",
              "    border: 1px solid rgba(106, 105, 104, 0.232);\n",
              "}\n",
              "\n",
              ".user-set td {\n",
              "    color:rgb(255, 94, 0);\n",
              "    text-align: left;\n",
              "}\n",
              "\n",
              ".user-set td.value pre {\n",
              "    color:rgb(255, 94, 0) !important;\n",
              "    background-color: transparent !important;\n",
              "}\n",
              "\n",
              ".default td {\n",
              "    color: black;\n",
              "    text-align: left;\n",
              "}\n",
              "\n",
              ".user-set td i,\n",
              ".default td i {\n",
              "    color: black;\n",
              "}\n",
              "\n",
              ".copy-paste-icon {\n",
              "    background-image: url(data:image/svg+xml;base64,PHN2ZyB4bWxucz0iaHR0cDovL3d3dy53My5vcmcvMjAwMC9zdmciIHZpZXdCb3g9IjAgMCA0NDggNTEyIj48IS0tIUZvbnQgQXdlc29tZSBGcmVlIDYuNy4yIGJ5IEBmb250YXdlc29tZSAtIGh0dHBzOi8vZm9udGF3ZXNvbWUuY29tIExpY2Vuc2UgLSBodHRwczovL2ZvbnRhd2Vzb21lLmNvbS9saWNlbnNlL2ZyZWUgQ29weXJpZ2h0IDIwMjUgRm9udGljb25zLCBJbmMuLS0+PHBhdGggZD0iTTIwOCAwTDMzMi4xIDBjMTIuNyAwIDI0LjkgNS4xIDMzLjkgMTQuMWw2Ny45IDY3LjljOSA5IDE0LjEgMjEuMiAxNC4xIDMzLjlMNDQ4IDMzNmMwIDI2LjUtMjEuNSA0OC00OCA0OGwtMTkyIDBjLTI2LjUgMC00OC0yMS41LTQ4LTQ4bDAtMjg4YzAtMjYuNSAyMS41LTQ4IDQ4LTQ4ek00OCAxMjhsODAgMCAwIDY0LTY0IDAgMCAyNTYgMTkyIDAgMC0zMiA2NCAwIDAgNDhjMCAyNi41LTIxLjUgNDgtNDggNDhMNDggNTEyYy0yNi41IDAtNDgtMjEuNS00OC00OEwwIDE3NmMwLTI2LjUgMjEuNS00OCA0OC00OHoiLz48L3N2Zz4=);\n",
              "    background-repeat: no-repeat;\n",
              "    background-size: 14px 14px;\n",
              "    background-position: 0;\n",
              "    display: inline-block;\n",
              "    width: 14px;\n",
              "    height: 14px;\n",
              "    cursor: pointer;\n",
              "}\n",
              "</style><body><div id=\"sk-container-id-1\" class=\"sk-top-container\"><div class=\"sk-text-repr-fallback\"><pre>DecisionTreeRegressor(max_depth=5, min_samples_leaf=5)</pre><b>In a Jupyter environment, please rerun this cell to show the HTML representation or trust the notebook. <br />On GitHub, the HTML representation is unable to render, please try loading this page with nbviewer.org.</b></div><div class=\"sk-container\" hidden><div class=\"sk-item\"><div class=\"sk-estimator fitted sk-toggleable\"><input class=\"sk-toggleable__control sk-hidden--visually\" id=\"sk-estimator-id-1\" type=\"checkbox\" checked><label for=\"sk-estimator-id-1\" class=\"sk-toggleable__label fitted sk-toggleable__label-arrow\"><div><div>DecisionTreeRegressor</div></div><div><a class=\"sk-estimator-doc-link fitted\" rel=\"noreferrer\" target=\"_blank\" href=\"https://scikit-learn.org/1.7/modules/generated/sklearn.tree.DecisionTreeRegressor.html\">?<span>Documentation for DecisionTreeRegressor</span></a><span class=\"sk-estimator-doc-link fitted\">i<span>Fitted</span></span></div></label><div class=\"sk-toggleable__content fitted\" data-param-prefix=\"\">\n",
              "        <div class=\"estimator-table\">\n",
              "            <details>\n",
              "                <summary>Parameters</summary>\n",
              "                <table class=\"parameters-table\">\n",
              "                  <tbody>\n",
              "                    \n",
              "        <tr class=\"default\">\n",
              "            <td><i class=\"copy-paste-icon\"\n",
              "                 onclick=\"copyToClipboard('criterion',\n",
              "                          this.parentElement.nextElementSibling)\"\n",
              "            ></i></td>\n",
              "            <td class=\"param\">criterion&nbsp;</td>\n",
              "            <td class=\"value\">&#x27;squared_error&#x27;</td>\n",
              "        </tr>\n",
              "    \n",
              "\n",
              "        <tr class=\"default\">\n",
              "            <td><i class=\"copy-paste-icon\"\n",
              "                 onclick=\"copyToClipboard('splitter',\n",
              "                          this.parentElement.nextElementSibling)\"\n",
              "            ></i></td>\n",
              "            <td class=\"param\">splitter&nbsp;</td>\n",
              "            <td class=\"value\">&#x27;best&#x27;</td>\n",
              "        </tr>\n",
              "    \n",
              "\n",
              "        <tr class=\"user-set\">\n",
              "            <td><i class=\"copy-paste-icon\"\n",
              "                 onclick=\"copyToClipboard('max_depth',\n",
              "                          this.parentElement.nextElementSibling)\"\n",
              "            ></i></td>\n",
              "            <td class=\"param\">max_depth&nbsp;</td>\n",
              "            <td class=\"value\">5</td>\n",
              "        </tr>\n",
              "    \n",
              "\n",
              "        <tr class=\"default\">\n",
              "            <td><i class=\"copy-paste-icon\"\n",
              "                 onclick=\"copyToClipboard('min_samples_split',\n",
              "                          this.parentElement.nextElementSibling)\"\n",
              "            ></i></td>\n",
              "            <td class=\"param\">min_samples_split&nbsp;</td>\n",
              "            <td class=\"value\">2</td>\n",
              "        </tr>\n",
              "    \n",
              "\n",
              "        <tr class=\"user-set\">\n",
              "            <td><i class=\"copy-paste-icon\"\n",
              "                 onclick=\"copyToClipboard('min_samples_leaf',\n",
              "                          this.parentElement.nextElementSibling)\"\n",
              "            ></i></td>\n",
              "            <td class=\"param\">min_samples_leaf&nbsp;</td>\n",
              "            <td class=\"value\">5</td>\n",
              "        </tr>\n",
              "    \n",
              "\n",
              "        <tr class=\"default\">\n",
              "            <td><i class=\"copy-paste-icon\"\n",
              "                 onclick=\"copyToClipboard('min_weight_fraction_leaf',\n",
              "                          this.parentElement.nextElementSibling)\"\n",
              "            ></i></td>\n",
              "            <td class=\"param\">min_weight_fraction_leaf&nbsp;</td>\n",
              "            <td class=\"value\">0.0</td>\n",
              "        </tr>\n",
              "    \n",
              "\n",
              "        <tr class=\"default\">\n",
              "            <td><i class=\"copy-paste-icon\"\n",
              "                 onclick=\"copyToClipboard('max_features',\n",
              "                          this.parentElement.nextElementSibling)\"\n",
              "            ></i></td>\n",
              "            <td class=\"param\">max_features&nbsp;</td>\n",
              "            <td class=\"value\">None</td>\n",
              "        </tr>\n",
              "    \n",
              "\n",
              "        <tr class=\"default\">\n",
              "            <td><i class=\"copy-paste-icon\"\n",
              "                 onclick=\"copyToClipboard('random_state',\n",
              "                          this.parentElement.nextElementSibling)\"\n",
              "            ></i></td>\n",
              "            <td class=\"param\">random_state&nbsp;</td>\n",
              "            <td class=\"value\">None</td>\n",
              "        </tr>\n",
              "    \n",
              "\n",
              "        <tr class=\"default\">\n",
              "            <td><i class=\"copy-paste-icon\"\n",
              "                 onclick=\"copyToClipboard('max_leaf_nodes',\n",
              "                          this.parentElement.nextElementSibling)\"\n",
              "            ></i></td>\n",
              "            <td class=\"param\">max_leaf_nodes&nbsp;</td>\n",
              "            <td class=\"value\">None</td>\n",
              "        </tr>\n",
              "    \n",
              "\n",
              "        <tr class=\"default\">\n",
              "            <td><i class=\"copy-paste-icon\"\n",
              "                 onclick=\"copyToClipboard('min_impurity_decrease',\n",
              "                          this.parentElement.nextElementSibling)\"\n",
              "            ></i></td>\n",
              "            <td class=\"param\">min_impurity_decrease&nbsp;</td>\n",
              "            <td class=\"value\">0.0</td>\n",
              "        </tr>\n",
              "    \n",
              "\n",
              "        <tr class=\"default\">\n",
              "            <td><i class=\"copy-paste-icon\"\n",
              "                 onclick=\"copyToClipboard('ccp_alpha',\n",
              "                          this.parentElement.nextElementSibling)\"\n",
              "            ></i></td>\n",
              "            <td class=\"param\">ccp_alpha&nbsp;</td>\n",
              "            <td class=\"value\">0.0</td>\n",
              "        </tr>\n",
              "    \n",
              "\n",
              "        <tr class=\"default\">\n",
              "            <td><i class=\"copy-paste-icon\"\n",
              "                 onclick=\"copyToClipboard('monotonic_cst',\n",
              "                          this.parentElement.nextElementSibling)\"\n",
              "            ></i></td>\n",
              "            <td class=\"param\">monotonic_cst&nbsp;</td>\n",
              "            <td class=\"value\">None</td>\n",
              "        </tr>\n",
              "    \n",
              "                  </tbody>\n",
              "                </table>\n",
              "            </details>\n",
              "        </div>\n",
              "    </div></div></div></div></div><script>function copyToClipboard(text, element) {\n",
              "    // Get the parameter prefix from the closest toggleable content\n",
              "    const toggleableContent = element.closest('.sk-toggleable__content');\n",
              "    const paramPrefix = toggleableContent ? toggleableContent.dataset.paramPrefix : '';\n",
              "    const fullParamName = paramPrefix ? `${paramPrefix}${text}` : text;\n",
              "\n",
              "    const originalStyle = element.style;\n",
              "    const computedStyle = window.getComputedStyle(element);\n",
              "    const originalWidth = computedStyle.width;\n",
              "    const originalHTML = element.innerHTML.replace('Copied!', '');\n",
              "\n",
              "    navigator.clipboard.writeText(fullParamName)\n",
              "        .then(() => {\n",
              "            element.style.width = originalWidth;\n",
              "            element.style.color = 'green';\n",
              "            element.innerHTML = \"Copied!\";\n",
              "\n",
              "            setTimeout(() => {\n",
              "                element.innerHTML = originalHTML;\n",
              "                element.style = originalStyle;\n",
              "            }, 2000);\n",
              "        })\n",
              "        .catch(err => {\n",
              "            console.error('Failed to copy:', err);\n",
              "            element.style.color = 'red';\n",
              "            element.innerHTML = \"Failed!\";\n",
              "            setTimeout(() => {\n",
              "                element.innerHTML = originalHTML;\n",
              "                element.style = originalStyle;\n",
              "            }, 2000);\n",
              "        });\n",
              "    return false;\n",
              "}\n",
              "\n",
              "document.querySelectorAll('.fa-regular.fa-copy').forEach(function(element) {\n",
              "    const toggleableContent = element.closest('.sk-toggleable__content');\n",
              "    const paramPrefix = toggleableContent ? toggleableContent.dataset.paramPrefix : '';\n",
              "    const paramName = element.parentElement.nextElementSibling.textContent.trim();\n",
              "    const fullParamName = paramPrefix ? `${paramPrefix}${paramName}` : paramName;\n",
              "\n",
              "    element.setAttribute('title', fullParamName);\n",
              "});\n",
              "</script></body>"
            ],
            "text/plain": [
              "DecisionTreeRegressor(max_depth=5, min_samples_leaf=5)"
            ]
          },
          "execution_count": 51,
          "metadata": {},
          "output_type": "execute_result"
        }
      ],
      "source": [
        "# Entrenamos al modelo con esos hiperparametros\n",
        "mejor_modelo = grid_search.best_estimator_\n",
        "\n",
        "mejor_modelo.fit(X_train, y_train)"
      ]
    },
    {
      "cell_type": "code",
      "execution_count": 53,
      "metadata": {
        "id": "0OoN7vqKYqpY"
      },
      "outputs": [],
      "source": [
        "y_pred = mejor_modelo.predict(X_test)\n"
      ]
    },
    {
      "cell_type": "code",
      "execution_count": 54,
      "metadata": {
        "colab": {
          "base_uri": "https://localhost:8080/"
        },
        "id": "bHjnp_bHYsix",
        "outputId": "ad9be1e9-715f-4c35-a803-5031b768caa0"
      },
      "outputs": [
        {
          "name": "stdout",
          "output_type": "stream",
          "text": [
            "Error Absoluto Medio (MAE): 0.33\n",
            "Coeficiente de determinación (R²): 0.79\n"
          ]
        }
      ],
      "source": [
        "# Calcular el error absoluto medio (MAE)\n",
        "mae = mean_absolute_error(y_test, y_pred)\n",
        "r2 = r2_score(y_test, y_pred)\n",
        "\n",
        "print(f\"Error Absoluto Medio (MAE): {mae:.2f}\")\n",
        "print(f\"Coeficiente de determinación (R²): {r2:.2f}\")\n"
      ]
    },
    {
      "cell_type": "code",
      "execution_count": 55,
      "metadata": {
        "colab": {
          "base_uri": "https://localhost:8080/"
        },
        "id": "CT2Y2B1EY1SZ",
        "outputId": "a91ca250-01d7-4fb9-e78e-ae8cd053f2c8"
      },
      "outputs": [
        {
          "name": "stdout",
          "output_type": "stream",
          "text": [
            "No se ha encontrado ningun estado coindidente como parametro.\n",
            "No se ha encontrado ningun estado coindidente como parametro.\n",
            "No se ha encontrado ningun estado coindidente como parametro.\n",
            "No se ha encontrado ningun estado coindidente como parametro.\n",
            "No se ha encontrado ningun estado coindidente como parametro.\n",
            "No se ha encontrado ningun estado coindidente como parametro.\n",
            "No se ha encontrado ningun estado coindidente como parametro.\n",
            "No se ha encontrado ningun estado coindidente como parametro.\n",
            "longitud lista 19\n",
            "Predicción de temperatura: 184.37599999999995°C\n"
          ]
        },
        {
          "name": "stderr",
          "output_type": "stream",
          "text": [
            "c:\\Users\\danie\\Documents\\prediccion_temperaturas\\env\\Lib\\site-packages\\sklearn\\utils\\validation.py:2749: UserWarning: X does not have valid feature names, but StandardScaler was fitted with feature names\n",
            "  warnings.warn(\n"
          ]
        }
      ],
      "source": [
        "# 🔹 Ejemplo: Nuevos datos (5 características)\n",
        "X_nuevo = np.array([generate_new_raw_data(221.0, 118, 3, 12, 220, 221, 226, 114, lluvia = 1)])  # Datos de prueba\n",
        "\n",
        "# 🔹 Normalizar con el mismo escalador usado en el entrenamiento\n",
        "X_nuevo_scaled = scaler_X.transform(X_nuevo)\n",
        "\n",
        "# 🔹 Hacer la predicción\n",
        "y_pred_scaled = mejor_modelo.predict(X_nuevo_scaled)\n",
        "\n",
        "# Desescalar las predicciones\n",
        "y_pred = scaler_y.inverse_transform(y_pred_scaled.reshape(-1, 1))\n",
        "\n",
        "print(f\"Predicción de temperatura: {y_pred[0][0]}°C\")"
      ]
    },
    {
      "cell_type": "markdown",
      "metadata": {
        "id": "Mo753kPnd1VQ"
      },
      "source": [
        "# Conclusiones\n",
        "\n",
        "Tras los experimentos realizados, podemos afirmar que las tres aproximaciones exploradas (árboles de decisión, redes densas y LSTM) resultan válidas para la tarea de predicción de temperatura.\n",
        "\n",
        "Un hallazgo interesante fue comprobar que los árboles de decisión, a pesar de su simplicidad, ofrecieron un rendimiento muy competitivo, llegando a obtener predicciones similares a las redes densas. Con una sencilla búsqueda en cuadrícula (Grid Search) fue posible ajustar el modelo y encontrar la configuración más adecuada.\n",
        "\n",
        "Por otro lado, las redes LSTM, diseñadas para trabajar con datos secuenciales, fueron las que lograron acercarse más a la predicción real de AEMET para el 13 de marzo, alcanzando con éxito la estimación de 19 °C.\n",
        "\n",
        "En conclusión, cada enfoque aporta ventajas diferentes:\n",
        "\n",
        "Los árboles de decisión destacan por su facilidad de uso y eficiencia.\n",
        "\n",
        "Las redes densas ofrecen un equilibrio entre simplicidad y precisión.\n",
        "\n",
        "Las LSTM muestran mayor capacidad de capturar la dinámica temporal, reflejándose en predicciones más exactas."
      ]
    },
    {
      "cell_type": "code",
      "execution_count": null,
      "metadata": {
        "id": "JnJkoo7Vejeq"
      },
      "outputs": [],
      "source": []
    }
  ],
  "metadata": {
    "colab": {
      "provenance": []
    },
    "kernelspec": {
      "display_name": "env",
      "language": "python",
      "name": "python3"
    },
    "language_info": {
      "codemirror_mode": {
        "name": "ipython",
        "version": 3
      },
      "file_extension": ".py",
      "mimetype": "text/x-python",
      "name": "python",
      "nbconvert_exporter": "python",
      "pygments_lexer": "ipython3",
      "version": "3.11.7"
    }
  },
  "nbformat": 4,
  "nbformat_minor": 0
}
